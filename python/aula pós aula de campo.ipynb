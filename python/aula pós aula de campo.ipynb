{
 "cells": [
  {
   "cell_type": "markdown",
   "id": "9dbf5aef",
   "metadata": {},
   "source": [
    "# Pandas"
   ]
  },
  {
   "cell_type": "code",
   "execution_count": null,
   "id": "da44806b",
   "metadata": {},
   "outputs": [],
   "source": [
    "A biblioteca pandas prepara/organiza os dados \n",
    "Este processo é chamado também de Data Muning\n",
    "Tem uma boa integração com o Numpy\n",
    "\n",
    "Dois conceitos principais:\n",
    "    \n",
    "- Series\n",
    "- DataFrames\n",
    "\n",
    "Site oficial"
   ]
  },
  {
   "cell_type": "code",
   "execution_count": 1,
   "id": "c024ab93",
   "metadata": {},
   "outputs": [],
   "source": [
    "#importando a biblioteca Pandas\n",
    "import pandas as pd"
   ]
  },
  {
   "cell_type": "markdown",
   "id": "a3245411",
   "metadata": {},
   "source": [
    "# Series"
   ]
  },
  {
   "cell_type": "code",
   "execution_count": null,
   "id": "1a332e75",
   "metadata": {},
   "outputs": [],
   "source": [
    "Series são Arrays unidimensionais que contém uma lista de dados e outra lista de índices."
   ]
  },
  {
   "cell_type": "code",
   "execution_count": 3,
   "id": "27f69f87",
   "metadata": {},
   "outputs": [
    {
     "name": "stdout",
     "output_type": "stream",
     "text": [
      "0    14\n",
      "1    10\n",
      "2     4\n",
      "3     1\n",
      "dtype: int64\n"
     ]
    }
   ],
   "source": [
    "#Criação de Series com geração automática de índices\n",
    "series_1 = pd.Series([14, 10, 4, 1])\n",
    "print(series_1)"
   ]
  },
  {
   "cell_type": "code",
   "execution_count": 4,
   "id": "ac72c060",
   "metadata": {},
   "outputs": [
    {
     "name": "stdout",
     "output_type": "stream",
     "text": [
      "0    14\n",
      "1    10\n",
      "2     4\n",
      "3     1\n",
      "dtype: int64\n"
     ]
    }
   ],
   "source": [
    "#Criação de Series definindo os índices\n",
    "series_2 = pd.Series([14, 10, 4, 1], index=['a', 'b', 'c', 'd'])\n",
    "print(series_1)"
   ]
  },
  {
   "cell_type": "code",
   "execution_count": 6,
   "id": "543a9c80",
   "metadata": {},
   "outputs": [
    {
     "name": "stdout",
     "output_type": "stream",
     "text": [
      "[14 10  4  1]\n"
     ]
    }
   ],
   "source": [
    "#retorna apenas os valores da Series\n",
    "print(series_2.values)"
   ]
  },
  {
   "cell_type": "code",
   "execution_count": 7,
   "id": "98a14851",
   "metadata": {},
   "outputs": [
    {
     "name": "stdout",
     "output_type": "stream",
     "text": [
      "Index(['a', 'b', 'c', 'd'], dtype='object')\n"
     ]
    }
   ],
   "source": [
    "#retorna apenas os índices da Series\n",
    "print(series_2.index)"
   ]
  },
  {
   "cell_type": "code",
   "execution_count": 8,
   "id": "fefc5fb0",
   "metadata": {},
   "outputs": [
    {
     "name": "stdout",
     "output_type": "stream",
     "text": [
      "10\n"
     ]
    }
   ],
   "source": [
    "#retorna o valor correspondente ao índice 'b'\n",
    "print(series_2['b'])"
   ]
  },
  {
   "cell_type": "code",
   "execution_count": 10,
   "id": "4bdbfdff",
   "metadata": {},
   "outputs": [
    {
     "name": "stdout",
     "output_type": "stream",
     "text": [
      "a    14\n",
      "b    10\n",
      "dtype: int64\n"
     ]
    }
   ],
   "source": [
    "#Retorna uma Series contando apenas os valores superiores a 5 \n",
    "print(series_2[series_2>5])"
   ]
  },
  {
   "cell_type": "code",
   "execution_count": 15,
   "id": "6d476153",
   "metadata": {},
   "outputs": [
    {
     "name": "stdout",
     "output_type": "stream",
     "text": [
      "a    14\n",
      "b    10\n",
      "c     4\n",
      "d     1\n",
      "dtype: int64\n"
     ]
    }
   ],
   "source": [
    "#Criando uma Series através de dicionário\n",
    "dicionario_1 = {'a':14, 'b':10, 'c':4, 'd':1}\n",
    "series_3 = pd.Series(dicionario_1)\n",
    "print(series_3)"
   ]
  },
  {
   "cell_type": "code",
   "execution_count": 16,
   "id": "25ea8814",
   "metadata": {},
   "outputs": [
    {
     "name": "stdout",
     "output_type": "stream",
     "text": [
      "a    14.0\n",
      "b    10.0\n",
      "c     4.0\n",
      "d     1.0\n",
      "e     NaN\n",
      "dtype: float64\n"
     ]
    }
   ],
   "source": [
    "#alteração do series_3 para um novo Series com um índice a mais\n",
    "#neste caso, não possui valor correspondente a este índice (NaN - Not a Number)\n",
    "series_4 = pd.Series(series_3, index=['a', 'b', 'c', 'd', 'e'])\n",
    "print(series_4)"
   ]
  },
  {
   "cell_type": "code",
   "execution_count": 17,
   "id": "d2e1824f",
   "metadata": {},
   "outputs": [
    {
     "name": "stdout",
     "output_type": "stream",
     "text": [
      "a    False\n",
      "b    False\n",
      "c    False\n",
      "d    False\n",
      "e     True\n",
      "dtype: bool\n"
     ]
    }
   ],
   "source": [
    "#verifica quais posições possuem nulos (NaN) - retornando True neste caso\n",
    "print(pd.isnull(series_4))"
   ]
  },
  {
   "cell_type": "code",
   "execution_count": 19,
   "id": "bfbb76a0",
   "metadata": {},
   "outputs": [
    {
     "name": "stdout",
     "output_type": "stream",
     "text": [
      "a     True\n",
      "b     True\n",
      "c     True\n",
      "d     True\n",
      "e    False\n",
      "dtype: bool\n"
     ]
    }
   ],
   "source": [
    "#verifica quais posições possuem não nulos - retornando True neste caso\n",
    "print(pd.notnull(series_4))"
   ]
  },
  {
   "cell_type": "code",
   "execution_count": 20,
   "id": "88b1f192",
   "metadata": {},
   "outputs": [
    {
     "name": "stdout",
     "output_type": "stream",
     "text": [
      "a    14.0\n",
      "b    10.0\n",
      "c     4.0\n",
      "d     1.0\n",
      "e     NaN\n",
      "Name: Aula, dtype: float64\n"
     ]
    }
   ],
   "source": [
    "#nomeando uma series\n",
    "series_4.name = 'Aula'\n",
    "print(series_4)"
   ]
  },
  {
   "cell_type": "markdown",
   "id": "961373c7",
   "metadata": {},
   "source": [
    "# Dataframe"
   ]
  },
  {
   "cell_type": "markdown",
   "id": "dbe24d6e",
   "metadata": {},
   "source": [
    "- Estrutura semelhante a uma planilha do Excel\n",
    "- Possui colunas e linhas"
   ]
  },
  {
   "cell_type": "code",
   "execution_count": 23,
   "id": "f3d64a83",
   "metadata": {},
   "outputs": [],
   "source": [
    "dicionario_2 = {\n",
    "    'Dias': ['Segunda', 'Terça', 'Quarta'],\n",
    "    '7h' : ['POO', 'BD', 'Algoritmos'],\n",
    "    '8h' : ['Análises', 'Back End', 'Front-End']\n",
    "}"
   ]
  },
  {
   "cell_type": "code",
   "execution_count": 30,
   "id": "4bc9d276",
   "metadata": {},
   "outputs": [
    {
     "name": "stdout",
     "output_type": "stream",
     "text": [
      "      Dias          7h         8h\n",
      "0  Segunda         POO   Análises\n",
      "1    Terça          BD   Back End\n",
      "2   Quarta  Algoritmos  Front-End\n"
     ]
    }
   ],
   "source": [
    "dataframe_1 = pd.DataFrame(dicionario_2)\n",
    "print(dataframe_1)"
   ]
  },
  {
   "cell_type": "code",
   "execution_count": 29,
   "id": "ab2a1b8c",
   "metadata": {},
   "outputs": [
    {
     "ename": "TypeError",
     "evalue": "DataFrame.__init__() got an unexpected keyword argument 'colums'",
     "output_type": "error",
     "traceback": [
      "\u001b[1;31m---------------------------------------------------------------------------\u001b[0m",
      "\u001b[1;31mTypeError\u001b[0m                                 Traceback (most recent call last)",
      "Cell \u001b[1;32mIn [29], line 11\u001b[0m\n\u001b[0;32m      7\u001b[0m colunas \u001b[38;5;241m=\u001b[39m [\u001b[38;5;124m'\u001b[39m\u001b[38;5;124mDias\u001b[39m\u001b[38;5;124m'\u001b[39m, \u001b[38;5;124m'\u001b[39m\u001b[38;5;124m7h\u001b[39m\u001b[38;5;124m'\u001b[39m, \u001b[38;5;124m'\u001b[39m\u001b[38;5;124m8h\u001b[39m\u001b[38;5;124m'\u001b[39m]\n\u001b[0;32m      9\u001b[0m indices \u001b[38;5;241m=\u001b[39m [\u001b[38;5;124m'\u001b[39m\u001b[38;5;124ma\u001b[39m\u001b[38;5;124m'\u001b[39m, \u001b[38;5;124m'\u001b[39m\u001b[38;5;124mb\u001b[39m\u001b[38;5;124m'\u001b[39m, \u001b[38;5;124m'\u001b[39m\u001b[38;5;124mc\u001b[39m\u001b[38;5;124m'\u001b[39m]\n\u001b[1;32m---> 11\u001b[0m dataframe_2 \u001b[38;5;241m=\u001b[39m \u001b[43mpd\u001b[49m\u001b[38;5;241;43m.\u001b[39;49m\u001b[43mDataFrame\u001b[49m\u001b[43m(\u001b[49m\u001b[43mvalores\u001b[49m\u001b[43m,\u001b[49m\u001b[43m \u001b[49m\u001b[43mcolums\u001b[49m\u001b[38;5;241;43m=\u001b[39;49m\u001b[43mcolunas\u001b[49m\u001b[43m,\u001b[49m\u001b[43m \u001b[49m\u001b[43mindex\u001b[49m\u001b[38;5;241;43m=\u001b[39;49m\u001b[43mindices\u001b[49m\u001b[43m)\u001b[49m\n\u001b[0;32m     12\u001b[0m \u001b[38;5;28mprint\u001b[39m(dataframe_2)\n",
      "\u001b[1;31mTypeError\u001b[0m: DataFrame.__init__() got an unexpected keyword argument 'colums'"
     ]
    }
   ],
   "source": [
    "valores = [\n",
    "    ['Segunda', 'Terça', 'Quarta'],\n",
    "    ['POO', 'BD', 'Algoritmos'],\n",
    "    ['Análises', 'Back End', 'Front-End']\n",
    "]\n",
    "\n",
    "colunas = ['Dias', '7h', '8h']\n",
    "\n",
    "indices = ['a', 'b', 'c']\n",
    "\n",
    "dataframe_2 = pd.DataFrame(valores, colums=colunas, index=indices)\n",
    "print(dataframe_2)"
   ]
  },
  {
   "cell_type": "code",
   "execution_count": null,
   "id": "0338a4f9",
   "metadata": {},
   "outputs": [],
   "source": []
  }
 ],
 "metadata": {
  "kernelspec": {
   "display_name": "Python 3 (ipykernel)",
   "language": "python",
   "name": "python3"
  },
  "language_info": {
   "codemirror_mode": {
    "name": "ipython",
    "version": 3
   },
   "file_extension": ".py",
   "mimetype": "text/x-python",
   "name": "python",
   "nbconvert_exporter": "python",
   "pygments_lexer": "ipython3",
   "version": "3.10.4"
  }
 },
 "nbformat": 4,
 "nbformat_minor": 5
}
