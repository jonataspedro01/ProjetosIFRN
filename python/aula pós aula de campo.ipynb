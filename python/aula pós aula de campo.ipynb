{
 "cells": [
  {
   "cell_type": "markdown",
   "id": "9dbf5aef",
   "metadata": {},
   "source": [
    "# Pandas"
   ]
  },
  {
   "cell_type": "code",
   "execution_count": null,
   "id": "da44806b",
   "metadata": {},
   "outputs": [],
   "source": [
    "A biblioteca pandas prepara/organiza os dados \n",
    "Este processo é chamado também de Data Muning\n",
    "Tem uma boa integração com o Numpy\n",
    "\n",
    "Dois conceitos principais:\n",
    "    \n",
    "- Series\n",
    "- DataFrames\n",
    "\n",
    "Site oficial"
   ]
  },
  {
   "cell_type": "code",
   "execution_count": 3,
   "id": "c024ab93",
   "metadata": {},
   "outputs": [],
   "source": [
    "#importando a biblioteca Pandas\n",
    "import pandas as pd"
   ]
  },
  {
   "cell_type": "markdown",
   "id": "a3245411",
   "metadata": {},
   "source": [
    "# Series"
   ]
  },
  {
   "cell_type": "code",
   "execution_count": null,
   "id": "1a332e75",
   "metadata": {},
   "outputs": [],
   "source": [
    "Series são Arrays unidimensionais que contém uma lista de dados e outra lista de índices."
   ]
  },
  {
   "cell_type": "code",
   "execution_count": 3,
   "id": "27f69f87",
   "metadata": {},
   "outputs": [
    {
     "name": "stdout",
     "output_type": "stream",
     "text": [
      "0    14\n",
      "1    10\n",
      "2     4\n",
      "3     1\n",
      "dtype: int64\n"
     ]
    }
   ],
   "source": [
    "#Criação de Series com geração automática de índices\n",
    "series_1 = pd.Series([14, 10, 4, 1])\n",
    "print(series_1)"
   ]
  },
  {
   "cell_type": "code",
   "execution_count": 4,
   "id": "ac72c060",
   "metadata": {},
   "outputs": [
    {
     "name": "stdout",
     "output_type": "stream",
     "text": [
      "0    14\n",
      "1    10\n",
      "2     4\n",
      "3     1\n",
      "dtype: int64\n"
     ]
    }
   ],
   "source": [
    "#Criação de Series definindo os índices\n",
    "series_2 = pd.Series([14, 10, 4, 1], index=['a', 'b', 'c', 'd'])\n",
    "print(series_1)"
   ]
  },
  {
   "cell_type": "code",
   "execution_count": 6,
   "id": "543a9c80",
   "metadata": {},
   "outputs": [
    {
     "name": "stdout",
     "output_type": "stream",
     "text": [
      "[14 10  4  1]\n"
     ]
    }
   ],
   "source": [
    "#retorna apenas os valores da Series\n",
    "print(series_2.values)"
   ]
  },
  {
   "cell_type": "code",
   "execution_count": 7,
   "id": "98a14851",
   "metadata": {},
   "outputs": [
    {
     "name": "stdout",
     "output_type": "stream",
     "text": [
      "Index(['a', 'b', 'c', 'd'], dtype='object')\n"
     ]
    }
   ],
   "source": [
    "#retorna apenas os índices da Series\n",
    "print(series_2.index)"
   ]
  },
  {
   "cell_type": "code",
   "execution_count": 8,
   "id": "fefc5fb0",
   "metadata": {},
   "outputs": [
    {
     "name": "stdout",
     "output_type": "stream",
     "text": [
      "10\n"
     ]
    }
   ],
   "source": [
    "#retorna o valor correspondente ao índice 'b'\n",
    "print(series_2['b'])"
   ]
  },
  {
   "cell_type": "code",
   "execution_count": 10,
   "id": "4bdbfdff",
   "metadata": {},
   "outputs": [
    {
     "name": "stdout",
     "output_type": "stream",
     "text": [
      "a    14\n",
      "b    10\n",
      "dtype: int64\n"
     ]
    }
   ],
   "source": [
    "#Retorna uma Series contando apenas os valores superiores a 5 \n",
    "print(series_2[series_2>5])"
   ]
  },
  {
   "cell_type": "code",
   "execution_count": 15,
   "id": "6d476153",
   "metadata": {},
   "outputs": [
    {
     "name": "stdout",
     "output_type": "stream",
     "text": [
      "a    14\n",
      "b    10\n",
      "c     4\n",
      "d     1\n",
      "dtype: int64\n"
     ]
    }
   ],
   "source": [
    "#Criando uma Series através de dicionário\n",
    "dicionario_1 = {'a':14, 'b':10, 'c':4, 'd':1}\n",
    "series_3 = pd.Series(dicionario_1)\n",
    "print(series_3)"
   ]
  },
  {
   "cell_type": "code",
   "execution_count": 16,
   "id": "25ea8814",
   "metadata": {},
   "outputs": [
    {
     "name": "stdout",
     "output_type": "stream",
     "text": [
      "a    14.0\n",
      "b    10.0\n",
      "c     4.0\n",
      "d     1.0\n",
      "e     NaN\n",
      "dtype: float64\n"
     ]
    }
   ],
   "source": [
    "#alteração do series_3 para um novo Series com um índice a mais\n",
    "#neste caso, não possui valor correspondente a este índice (NaN - Not a Number)\n",
    "series_4 = pd.Series(series_3, index=['a', 'b', 'c', 'd', 'e'])\n",
    "print(series_4)"
   ]
  },
  {
   "cell_type": "code",
   "execution_count": 17,
   "id": "d2e1824f",
   "metadata": {},
   "outputs": [
    {
     "name": "stdout",
     "output_type": "stream",
     "text": [
      "a    False\n",
      "b    False\n",
      "c    False\n",
      "d    False\n",
      "e     True\n",
      "dtype: bool\n"
     ]
    }
   ],
   "source": [
    "#verifica quais posições possuem nulos (NaN) - retornando True neste caso\n",
    "print(pd.isnull(series_4))"
   ]
  },
  {
   "cell_type": "code",
   "execution_count": 19,
   "id": "bfbb76a0",
   "metadata": {},
   "outputs": [
    {
     "name": "stdout",
     "output_type": "stream",
     "text": [
      "a     True\n",
      "b     True\n",
      "c     True\n",
      "d     True\n",
      "e    False\n",
      "dtype: bool\n"
     ]
    }
   ],
   "source": [
    "#verifica quais posições possuem não nulos - retornando True neste caso\n",
    "print(pd.notnull(series_4))"
   ]
  },
  {
   "cell_type": "code",
   "execution_count": 20,
   "id": "88b1f192",
   "metadata": {},
   "outputs": [
    {
     "name": "stdout",
     "output_type": "stream",
     "text": [
      "a    14.0\n",
      "b    10.0\n",
      "c     4.0\n",
      "d     1.0\n",
      "e     NaN\n",
      "Name: Aula, dtype: float64\n"
     ]
    }
   ],
   "source": [
    "#nomeando uma series\n",
    "series_4.name = 'Aula'\n",
    "print(series_4)"
   ]
  },
  {
   "cell_type": "markdown",
   "id": "961373c7",
   "metadata": {},
   "source": [
    "# Dataframe"
   ]
  },
  {
   "cell_type": "markdown",
   "id": "dbe24d6e",
   "metadata": {},
   "source": [
    "- Estrutura semelhante a uma planilha do Excel\n",
    "- Possui colunas e linhas"
   ]
  },
  {
   "cell_type": "code",
   "execution_count": 23,
   "id": "f3d64a83",
   "metadata": {},
   "outputs": [],
   "source": [
    "dicionario_2 = {\n",
    "    'Dias': ['Segunda', 'Terça', 'Quarta'],\n",
    "    '7h' : ['POO', 'BD', 'Algoritmos'],\n",
    "    '8h' : ['Análises', 'Back End', 'Front-End']\n",
    "}"
   ]
  },
  {
   "cell_type": "code",
   "execution_count": 30,
   "id": "4bc9d276",
   "metadata": {},
   "outputs": [
    {
     "name": "stdout",
     "output_type": "stream",
     "text": [
      "      Dias          7h         8h\n",
      "0  Segunda         POO   Análises\n",
      "1    Terça          BD   Back End\n",
      "2   Quarta  Algoritmos  Front-End\n"
     ]
    }
   ],
   "source": [
    "dataframe_1 = pd.DataFrame(dicionario_2)\n",
    "print(dataframe_1)"
   ]
  },
  {
   "cell_type": "code",
   "execution_count": 7,
   "id": "ab2a1b8c",
   "metadata": {},
   "outputs": [
    {
     "data": {
      "text/html": [
       "<div>\n",
       "<style scoped>\n",
       "    .dataframe tbody tr th:only-of-type {\n",
       "        vertical-align: middle;\n",
       "    }\n",
       "\n",
       "    .dataframe tbody tr th {\n",
       "        vertical-align: top;\n",
       "    }\n",
       "\n",
       "    .dataframe thead th {\n",
       "        text-align: right;\n",
       "    }\n",
       "</style>\n",
       "<table border=\"1\" class=\"dataframe\">\n",
       "  <thead>\n",
       "    <tr style=\"text-align: right;\">\n",
       "      <th></th>\n",
       "      <th>Disciplina</th>\n",
       "      <th>CH</th>\n",
       "      <th>Dia</th>\n",
       "    </tr>\n",
       "  </thead>\n",
       "  <tbody>\n",
       "    <tr>\n",
       "      <th>ALG</th>\n",
       "      <td>Algoritmos</td>\n",
       "      <td>80</td>\n",
       "      <td>Segunda</td>\n",
       "    </tr>\n",
       "    <tr>\n",
       "      <th>POO</th>\n",
       "      <td>P. Orientadas a Objetos</td>\n",
       "      <td>80</td>\n",
       "      <td>Terça</td>\n",
       "    </tr>\n",
       "    <tr>\n",
       "      <th>BD</th>\n",
       "      <td>Banco de dados</td>\n",
       "      <td>40</td>\n",
       "      <td>Quarta</td>\n",
       "    </tr>\n",
       "  </tbody>\n",
       "</table>\n",
       "</div>"
      ],
      "text/plain": [
       "                  Disciplina  CH      Dia\n",
       "ALG               Algoritmos  80  Segunda\n",
       "POO  P. Orientadas a Objetos  80    Terça\n",
       "BD            Banco de dados  40   Quarta"
      ]
     },
     "execution_count": 7,
     "metadata": {},
     "output_type": "execute_result"
    }
   ],
   "source": [
    "colunas = ['Disciplina', 'CH', 'Dia']\n",
    "\n",
    "valores = [\n",
    "    ['Algoritmos', 80, 'Segunda'],\n",
    "    ['P. Orientadas a Objetos', 80, 'Terça'],\n",
    "    ['Banco de dados', 40, 'Quarta']\n",
    "]\n",
    "\n",
    "indices = ['ALG', 'POO', 'BD']\n",
    "\n",
    "\n",
    "dataframe_2 = pd.DataFrame(valores, columns=colunas, index=indices)\n",
    "dataframe_2"
   ]
  },
  {
   "cell_type": "markdown",
   "id": "dcf62458",
   "metadata": {},
   "source": [
    "# Slicing em DataFrames"
   ]
  },
  {
   "cell_type": "code",
   "execution_count": 9,
   "id": "0338a4f9",
   "metadata": {},
   "outputs": [
    {
     "name": "stdout",
     "output_type": "stream",
     "text": [
      "ALG                 Algoritmos\n",
      "POO    P. Orientadas a Objetos\n",
      "BD              Banco de dados\n",
      "Name: Disciplina, dtype: object\n"
     ]
    }
   ],
   "source": [
    "#Inserindo o nome de uma coluna, é retornado um DataFrame com os valores apenas desta coluna.\n",
    "print(dataframe_2['Disciplina'])"
   ]
  },
  {
   "cell_type": "code",
   "execution_count": 11,
   "id": "df93cba1",
   "metadata": {},
   "outputs": [
    {
     "data": {
      "text/html": [
       "<div>\n",
       "<style scoped>\n",
       "    .dataframe tbody tr th:only-of-type {\n",
       "        vertical-align: middle;\n",
       "    }\n",
       "\n",
       "    .dataframe tbody tr th {\n",
       "        vertical-align: top;\n",
       "    }\n",
       "\n",
       "    .dataframe thead th {\n",
       "        text-align: right;\n",
       "    }\n",
       "</style>\n",
       "<table border=\"1\" class=\"dataframe\">\n",
       "  <thead>\n",
       "    <tr style=\"text-align: right;\">\n",
       "      <th></th>\n",
       "      <th>Disciplina</th>\n",
       "      <th>CH</th>\n",
       "      <th>Dia</th>\n",
       "    </tr>\n",
       "  </thead>\n",
       "  <tbody>\n",
       "    <tr>\n",
       "      <th>ALG</th>\n",
       "      <td>Algoritmos</td>\n",
       "      <td>120</td>\n",
       "      <td>Segunda</td>\n",
       "    </tr>\n",
       "    <tr>\n",
       "      <th>POO</th>\n",
       "      <td>P. Orientadas a Objetos</td>\n",
       "      <td>120</td>\n",
       "      <td>Terça</td>\n",
       "    </tr>\n",
       "    <tr>\n",
       "      <th>BD</th>\n",
       "      <td>Banco de dados</td>\n",
       "      <td>80</td>\n",
       "      <td>Quarta</td>\n",
       "    </tr>\n",
       "  </tbody>\n",
       "</table>\n",
       "</div>"
      ],
      "text/plain": [
       "                  Disciplina   CH      Dia\n",
       "ALG               Algoritmos  120  Segunda\n",
       "POO  P. Orientadas a Objetos  120    Terça\n",
       "BD            Banco de dados   80   Quarta"
      ]
     },
     "execution_count": 11,
     "metadata": {},
     "output_type": "execute_result"
    }
   ],
   "source": [
    "novas_ch = [120, 120, 80]\n",
    "dataframe_2['CH'] = novas_ch\n",
    "\n",
    "dataframe_2"
   ]
  },
  {
   "cell_type": "code",
   "execution_count": 16,
   "id": "e94a0ecf",
   "metadata": {},
   "outputs": [
    {
     "name": "stdout",
     "output_type": "stream",
     "text": [
      "                  Disciplina   CH      Dia\n",
      "ALG               Algoritmos  120  Segunda\n",
      "POO  P. Orientadas a Objetos  120    Terça\n"
     ]
    }
   ],
   "source": [
    "'''\n",
    "O slicing por padrão funciona por linha. No exemplo a seguir, imprime as duas primeiras linhas.\n",
    "'''\n",
    "print(dataframe_2[0:2])"
   ]
  },
  {
   "cell_type": "code",
   "execution_count": 21,
   "id": "17a20bbb",
   "metadata": {},
   "outputs": [
    {
     "name": "stdout",
     "output_type": "stream",
     "text": [
      "ALG    Segunda\n",
      "POO      Terça\n",
      "BD      Quarta\n",
      "Name: Dia, dtype: object\n"
     ]
    },
    {
     "data": {
      "text/html": [
       "<div>\n",
       "<style scoped>\n",
       "    .dataframe tbody tr th:only-of-type {\n",
       "        vertical-align: middle;\n",
       "    }\n",
       "\n",
       "    .dataframe tbody tr th {\n",
       "        vertical-align: top;\n",
       "    }\n",
       "\n",
       "    .dataframe thead th {\n",
       "        text-align: right;\n",
       "    }\n",
       "</style>\n",
       "<table border=\"1\" class=\"dataframe\">\n",
       "  <thead>\n",
       "    <tr style=\"text-align: right;\">\n",
       "      <th></th>\n",
       "      <th>Disciplina</th>\n",
       "      <th>CH</th>\n",
       "      <th>Dia</th>\n",
       "    </tr>\n",
       "  </thead>\n",
       "  <tbody>\n",
       "    <tr>\n",
       "      <th>ALG</th>\n",
       "      <td>Algoritmos</td>\n",
       "      <td>120</td>\n",
       "      <td>Segunda</td>\n",
       "    </tr>\n",
       "    <tr>\n",
       "      <th>POO</th>\n",
       "      <td>P. Orientadas a Objetos</td>\n",
       "      <td>120</td>\n",
       "      <td>Terça</td>\n",
       "    </tr>\n",
       "    <tr>\n",
       "      <th>BD</th>\n",
       "      <td>Banco de dados</td>\n",
       "      <td>80</td>\n",
       "      <td>Quarta</td>\n",
       "    </tr>\n",
       "  </tbody>\n",
       "</table>\n",
       "</div>"
      ],
      "text/plain": [
       "                  Disciplina   CH      Dia\n",
       "ALG               Algoritmos  120  Segunda\n",
       "POO  P. Orientadas a Objetos  120    Terça\n",
       "BD            Banco de dados   80   Quarta"
      ]
     },
     "execution_count": 21,
     "metadata": {},
     "output_type": "execute_result"
    }
   ],
   "source": [
    "#Retorna um DataFrame da coluna CH até dia\n",
    "print(dataframe_2.loc[:,'Dia'])\n",
    "\n",
    "dataframe_2"
   ]
  },
  {
   "cell_type": "code",
   "execution_count": 23,
   "id": "312050ce",
   "metadata": {},
   "outputs": [
    {
     "data": {
      "text/html": [
       "<div>\n",
       "<style scoped>\n",
       "    .dataframe tbody tr th:only-of-type {\n",
       "        vertical-align: middle;\n",
       "    }\n",
       "\n",
       "    .dataframe tbody tr th {\n",
       "        vertical-align: top;\n",
       "    }\n",
       "\n",
       "    .dataframe thead th {\n",
       "        text-align: right;\n",
       "    }\n",
       "</style>\n",
       "<table border=\"1\" class=\"dataframe\">\n",
       "  <thead>\n",
       "    <tr style=\"text-align: right;\">\n",
       "      <th></th>\n",
       "      <th>CH</th>\n",
       "      <th>Dia</th>\n",
       "    </tr>\n",
       "  </thead>\n",
       "  <tbody>\n",
       "    <tr>\n",
       "      <th>ALG</th>\n",
       "      <td>120</td>\n",
       "      <td>Segunda</td>\n",
       "    </tr>\n",
       "    <tr>\n",
       "      <th>POO</th>\n",
       "      <td>120</td>\n",
       "      <td>Terça</td>\n",
       "    </tr>\n",
       "    <tr>\n",
       "      <th>BD</th>\n",
       "      <td>80</td>\n",
       "      <td>Quarta</td>\n",
       "    </tr>\n",
       "  </tbody>\n",
       "</table>\n",
       "</div>"
      ],
      "text/plain": [
       "      CH      Dia\n",
       "ALG  120  Segunda\n",
       "POO  120    Terça\n",
       "BD    80   Quarta"
      ]
     },
     "execution_count": 23,
     "metadata": {},
     "output_type": "execute_result"
    }
   ],
   "source": [
    "#a propriedade iloc permite fazer slicing de colunas de índíces\n",
    "(dataframe_2.iloc[:,1:3])"
   ]
  },
  {
   "cell_type": "code",
   "execution_count": 25,
   "id": "5bb2bb8c",
   "metadata": {},
   "outputs": [
    {
     "data": {
      "text/plain": [
       "count      3.000000\n",
       "mean     106.666667\n",
       "std       23.094011\n",
       "min       80.000000\n",
       "25%      100.000000\n",
       "50%      120.000000\n",
       "75%      120.000000\n",
       "max      120.000000\n",
       "Name: CH, dtype: float64"
      ]
     },
     "execution_count": 25,
     "metadata": {},
     "output_type": "execute_result"
    }
   ],
   "source": [
    "dataframe_2['CH'].describe()"
   ]
  },
  {
   "cell_type": "code",
   "execution_count": null,
   "id": "c2ce988a",
   "metadata": {},
   "outputs": [],
   "source": []
  }
 ],
 "metadata": {
  "kernelspec": {
   "display_name": "Python 3 (ipykernel)",
   "language": "python",
   "name": "python3"
  },
  "language_info": {
   "codemirror_mode": {
    "name": "ipython",
    "version": 3
   },
   "file_extension": ".py",
   "mimetype": "text/x-python",
   "name": "python",
   "nbconvert_exporter": "python",
   "pygments_lexer": "ipython3",
   "version": "3.10.4"
  }
 },
 "nbformat": 4,
 "nbformat_minor": 5
}
