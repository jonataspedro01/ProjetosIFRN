{
 "cells": [
  {
   "cell_type": "code",
   "execution_count": 12,
   "id": "316b4bad",
   "metadata": {},
   "outputs": [],
   "source": [
    "import pandas as pd\n",
    "import numpy as np\n",
    "import matplotlib.pyplot as plt\n",
    "%matplotlib inline"
   ]
  },
  {
   "cell_type": "code",
   "execution_count": 13,
   "id": "9500cced",
   "metadata": {},
   "outputs": [],
   "source": [
    "clientes = pd.read_csv('caso_estudo_clientes.csv', sep=';')\n",
    "vendas = pd.read_csv('caso_estudo_vendas.csv', sep=';')\n",
    "produtos = pd.read_csv('caso_estudo_produtos.csv', sep=';')\n",
    "pagamentos = pd.read_csv('caso_estudo_pagamentos.csv', sep=';')\n",
    "lojas = pd.read_csv('caso_estudo_lojas.csv', sep=';')"
   ]
  },
  {
   "cell_type": "code",
   "execution_count": 14,
   "id": "2b75e628",
   "metadata": {},
   "outputs": [],
   "source": [
    "# === LIMPEZA ===\n",
    "\n",
    "#Ajustando dados nulos\n",
    "clientes.loc[clientes.nome.isnull(),'nome'] = 'Sem Nome'\n",
    "clientes.loc[clientes.sexo.isnull(),'sexo'] = 'o'\n",
    "clientes.loc[clientes.dt_nasc.isnull(),'dt_nasc'] = '1/1/2022'\n",
    "clientes.loc[9,'valor'] = 3500\n",
    "produtos.loc[9,'produto'] = 'Monitor Gamer'\n",
    "\n",
    "#Ajustando Datas\n",
    "clientes.dt_nasc = pd.to_datetime(clientes.dt_nasc, format='%m/%d/%Y')\n",
    "vendas.dt_venda = pd.to_datetime(vendas.dt_venda, format='%d/%m/%Y')\n",
    "pagamentos.dt_pgto = pd.to_datetime(pagamentos.dt_pgto, format='%d/%m/%Y')\n",
    "\n",
    "#Índices\n",
    "clientes = clientes.set_index('id')\n",
    "vendas = vendas.set_index('id')\n",
    "produtos = produtos.set_index('id')\n",
    "pagamentos = pagamentos.set_index('id')\n",
    "lojas = lojas.set_index('id')\n"
   ]
  },
  {
   "cell_type": "code",
   "execution_count": 15,
   "id": "d496cce2",
   "metadata": {},
   "outputs": [],
   "source": [
    "# === FUSION ===\n",
    "\n",
    "lista_geral = vendas.join(clientes.add_prefix('cliente_'), on='id_cliente')\n",
    "lista_geral = lista_geral.join(produtos.add_prefix('produto_'), on='id_produto')\n",
    "lista_geral = lista_geral.join(lojas.add_prefix('loja_'), on='id_loja')\n",
    "lista_geral = lista_geral.join(pagamentos.set_index('id_venda'))"
   ]
  },
  {
   "cell_type": "code",
   "execution_count": 16,
   "id": "5ae42bea",
   "metadata": {},
   "outputs": [],
   "source": [
    "# === FEATURE ENGINEERING ===\n",
    "\n",
    "# Compras sem pagamento\n",
    "lista_geral['pagamento'] = 1\n",
    "lista_geral.loc[lista_geral.dt_pgto.isnull(), 'pagamento'] = 0\n",
    "\n",
    "# Tempo entre compra e pagamento\n",
    "lista_geral['tempo_pagamento'] = (lista_geral.dt_pgto - lista_geral.dt_venda).dt.days\n",
    "\n",
    "# Idade dos Clientes\n",
    "lista_geral['cliente_idade'] = np.floor((pd.to_datetime('today') - lista_geral.cliente_dt_nasc)/np.timedelta64(1, 'Y'))"
   ]
  },
  {
   "cell_type": "markdown",
   "id": "2971b555",
   "metadata": {},
   "source": [
    "# Análise - parte 01"
   ]
  },
  {
   "cell_type": "markdown",
   "id": "0be109a6",
   "metadata": {},
   "source": [
    "Perguntas para análise:\n",
    "- Quais lojas mais vendem?\n",
    "- Quais produtos mais vendem?\n",
    "- Quais lojas geram maior receita?\n",
    "- Quais produtos geram maior receita?"
   ]
  },
  {
   "cell_type": "markdown",
   "id": "f8866e60",
   "metadata": {},
   "source": [
    "## Lojas que mais vendem"
   ]
  },
  {
   "cell_type": "markdown",
   "id": "0fc9486b",
   "metadata": {},
   "source": [
    "## Produtos que mais vendem"
   ]
  },
  {
   "cell_type": "markdown",
   "id": "b65cded6",
   "metadata": {},
   "source": [
    "## Quais lojas geram maior receita?"
   ]
  },
  {
   "cell_type": "markdown",
   "id": "3480817e",
   "metadata": {},
   "source": [
    "## Quais produtos geram maior receita?"
   ]
  }
 ],
 "metadata": {
  "kernelspec": {
   "display_name": "Python 3 (ipykernel)",
   "language": "python",
   "name": "python3"
  },
  "language_info": {
   "codemirror_mode": {
    "name": "ipython",
    "version": 3
   },
   "file_extension": ".py",
   "mimetype": "text/x-python",
   "name": "python",
   "nbconvert_exporter": "python",
   "pygments_lexer": "ipython3",
   "version": "3.10.4"
  }
 },
 "nbformat": 4,
 "nbformat_minor": 5
}
