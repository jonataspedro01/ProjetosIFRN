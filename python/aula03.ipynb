{
 "cells": [
  {
   "cell_type": "markdown",
   "id": "b90afbcc",
   "metadata": {},
   "source": [
    "Principal conceito da POO - objetos\n",
    "\n",
    "Para criar (instanciar) um objeto, eu preciso de uma classe\n",
    "\n",
    "A Classe é onde serão definidas/modeladas as características e ações que um objeto poderá assumir."
   ]
  },
  {
   "cell_type": "markdown",
   "id": "c9dcd0fe",
   "metadata": {},
   "source": [
    "#Criando uma classe\n",
    "class Nome:\n",
    "    pass\n",
    "\n",
    "#a palavra reservada pass, serve para indicar que a Classe é vazia"
   ]
  },
  {
   "cell_type": "markdown",
   "id": "6c9f7204",
   "metadata": {},
   "source": [
    "Características = variáveis\n",
    "Ações = Funções\n",
    "\n",
    "Para definir as variaveis, é preciso utilizar o construtor\n",
    "\n",
    "Construtor - função especial que é acessada no momento da criação do objeto (instanciação). Ela é acessada apenas 1 vez \n",
    "(somente na criação)."
   ]
  },
  {
   "cell_type": "markdown",
   "id": "605aa1ea",
   "metadata": {},
   "source": [
    "class lampada:\n",
    "    \n",
    "    def __init__(self):\n",
    "        self.codigo = 123\n",
    "        self.tipo = 'Fluorescente'\n",
    "        self.estado = 'Apagada'\n",
    "        \n",
    "'''\n",
    "__init__ é a função especial que representa \n",
    "o construtor da classe\n",
    "\n",
    "self é um parâmetro obrigatório quando é preciso definir\n",
    "que uma variável é da classe (variável de instância);\n",
    "Ela pode receber qualquer nome, mas a documentação python usa self.\n",
    "\n",
    "\n",
    "def __init_(self): significa que é um construtor vazio\n",
    "\n",
    "construtor vazio: não recebe parâmetro (apenas o obrigatório)\n",
    "'''"
   ]
  },
  {
   "cell_type": "code",
   "execution_count": null,
   "id": "971173ea",
   "metadata": {},
   "outputs": [],
   "source": [
    "class lampada:\n",
    "\n",
    "    def __init__(self, codigo, tipo, estado):\n",
    "        self.codigo = 123\n",
    "        self.tipo = 'Fluorescente'\n",
    "        self.estado = 'Apagada'"
   ]
  }
 ],
 "metadata": {
  "kernelspec": {
   "display_name": "Python 3 (ipykernel)",
   "language": "python",
   "name": "python3"
  },
  "language_info": {
   "codemirror_mode": {
    "name": "ipython",
    "version": 3
   },
   "file_extension": ".py",
   "mimetype": "text/x-python",
   "name": "python",
   "nbconvert_exporter": "python",
   "pygments_lexer": "ipython3",
   "version": "3.10.4"
  }
 },
 "nbformat": 4,
 "nbformat_minor": 5
}
