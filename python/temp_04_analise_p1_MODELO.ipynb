{
 "cells": [
  {
   "cell_type": "code",
   "execution_count": 1,
   "id": "316b4bad",
   "metadata": {},
   "outputs": [
    {
     "ename": "ModuleNotFoundError",
     "evalue": "No module named 'matplotlib'",
     "output_type": "error",
     "traceback": [
      "\u001b[1;31m---------------------------------------------------------------------------\u001b[0m",
      "\u001b[1;31mModuleNotFoundError\u001b[0m                       Traceback (most recent call last)",
      "Cell \u001b[1;32mIn [1], line 3\u001b[0m\n\u001b[0;32m      1\u001b[0m \u001b[38;5;28;01mimport\u001b[39;00m \u001b[38;5;21;01mpandas\u001b[39;00m \u001b[38;5;28;01mas\u001b[39;00m \u001b[38;5;21;01mpd\u001b[39;00m\n\u001b[0;32m      2\u001b[0m \u001b[38;5;28;01mimport\u001b[39;00m \u001b[38;5;21;01mnumpy\u001b[39;00m \u001b[38;5;28;01mas\u001b[39;00m \u001b[38;5;21;01mnp\u001b[39;00m\n\u001b[1;32m----> 3\u001b[0m \u001b[38;5;28;01mimport\u001b[39;00m \u001b[38;5;21;01mmatplotlib\u001b[39;00m\u001b[38;5;21;01m.\u001b[39;00m\u001b[38;5;21;01mpyplot\u001b[39;00m \u001b[38;5;28;01mas\u001b[39;00m \u001b[38;5;21;01mplt\u001b[39;00m\n\u001b[0;32m      4\u001b[0m get_ipython()\u001b[38;5;241m.\u001b[39mrun_line_magic(\u001b[38;5;124m'\u001b[39m\u001b[38;5;124mmatplotlib\u001b[39m\u001b[38;5;124m'\u001b[39m, \u001b[38;5;124m'\u001b[39m\u001b[38;5;124minline\u001b[39m\u001b[38;5;124m'\u001b[39m)\n",
      "\u001b[1;31mModuleNotFoundError\u001b[0m: No module named 'matplotlib'"
     ]
    }
   ],
   "source": [
    "import pandas as pd\n",
    "import numpy as np\n",
    "import matplotlib.pyplot as plt\n",
    "%matplotlib inline"
   ]
  },
  {
   "cell_type": "code",
   "execution_count": null,
   "id": "9500cced",
   "metadata": {},
   "outputs": [],
   "source": [
    "clientes = pd.read_csv('caso_estudo_clientes.csv', sep=';')\n",
    "vendas = pd.read_csv('caso_estudo_vendas.csv', sep=';')\n",
    "produtos = pd.read_csv('caso_estudo_produtos.csv', sep=';')\n",
    "pagamentos = pd.read_csv('caso_estudo_pagamentos.csv', sep=';')\n",
    "lojas = pd.read_csv('caso_estudo_lojas.csv', sep=';')"
   ]
  },
  {
   "cell_type": "code",
   "execution_count": null,
   "id": "2b75e628",
   "metadata": {},
   "outputs": [],
   "source": [
    "# === LIMPEZA ===\n",
    "\n",
    "#Ajustando dados nulos\n",
    "clientes.loc[clientes.nome.isnull(),'nome'] = 'Sem Nome'\n",
    "clientes.loc[clientes.sexo.isnull(),'sexo'] = 'o'\n",
    "clientes.loc[clientes.dt_nasc.isnull(),'dt_nasc'] = '1/24/2023'\n",
    "produtos.loc[9,'valor'] = 3500\n",
    "produtos.loc[9,'produto'] = 'Monitor Gamer'\n",
    "\n",
    "#Ajustando Datas\n",
    "clientes.dt_nasc = pd.to_datetime(clientes.dt_nasc, format='%m/%d/%Y')\n",
    "vendas.dt_venda = pd.to_datetime(vendas.dt_venda, format='%d/%m/%Y')\n",
    "pagamentos.dt_pgto = pd.to_datetime(pagamentos.dt_pgto, format='%d/%m/%Y')\n",
    "\n",
    "#Índices\n",
    "clientes = clientes.set_index('id')\n",
    "vendas = vendas.set_index('id')\n",
    "produtos = produtos.set_index('id')\n",
    "pagamentos = pagamentos.set_index('id')\n",
    "lojas = lojas.set_index('id')\n"
   ]
  },
  {
   "cell_type": "code",
   "execution_count": 9,
   "id": "d496cce2",
   "metadata": {},
   "outputs": [
    {
     "ename": "NameError",
     "evalue": "name 'vendas' is not defined",
     "output_type": "error",
     "traceback": [
      "\u001b[1;31m---------------------------------------------------------------------------\u001b[0m",
      "\u001b[1;31mNameError\u001b[0m                                 Traceback (most recent call last)",
      "Cell \u001b[1;32mIn [9], line 3\u001b[0m\n\u001b[0;32m      1\u001b[0m \u001b[38;5;66;03m# === FUSION ===\u001b[39;00m\n\u001b[1;32m----> 3\u001b[0m lista_geral \u001b[38;5;241m=\u001b[39m \u001b[43mvendas\u001b[49m\u001b[38;5;241m.\u001b[39mjoin(clientes\u001b[38;5;241m.\u001b[39madd_prefix(\u001b[38;5;124m'\u001b[39m\u001b[38;5;124mcliente_\u001b[39m\u001b[38;5;124m'\u001b[39m), on\u001b[38;5;241m=\u001b[39m\u001b[38;5;124m'\u001b[39m\u001b[38;5;124mid_cliente\u001b[39m\u001b[38;5;124m'\u001b[39m)\n\u001b[0;32m      4\u001b[0m lista_geral \u001b[38;5;241m=\u001b[39m lista_geral\u001b[38;5;241m.\u001b[39mjoin(produtos\u001b[38;5;241m.\u001b[39madd_prefix(\u001b[38;5;124m'\u001b[39m\u001b[38;5;124mproduto_\u001b[39m\u001b[38;5;124m'\u001b[39m), on\u001b[38;5;241m=\u001b[39m\u001b[38;5;124m'\u001b[39m\u001b[38;5;124mid_produto\u001b[39m\u001b[38;5;124m'\u001b[39m)\n\u001b[0;32m      5\u001b[0m lista_geral \u001b[38;5;241m=\u001b[39m lista_geral\u001b[38;5;241m.\u001b[39mjoin(lojas\u001b[38;5;241m.\u001b[39madd_prefix(\u001b[38;5;124m'\u001b[39m\u001b[38;5;124mloja_\u001b[39m\u001b[38;5;124m'\u001b[39m), on\u001b[38;5;241m=\u001b[39m\u001b[38;5;124m'\u001b[39m\u001b[38;5;124mid_loja\u001b[39m\u001b[38;5;124m'\u001b[39m)\n",
      "\u001b[1;31mNameError\u001b[0m: name 'vendas' is not defined"
     ]
    }
   ],
   "source": [
    "# === FUSION ===\n",
    "\n",
    "lista_geral = vendas.join(clientes.add_prefix('cliente_'), on='id_cliente')\n",
    "lista_geral = lista_geral.join(produtos.add_prefix('produto_'), on='id_produto')\n",
    "lista_geral = lista_geral.join(lojas.add_prefix('loja_'), on='id_loja')\n",
    "lista_geral = lista_geral.join(pagamentos.set_index('id_venda'))"
   ]
  },
  {
   "cell_type": "code",
   "execution_count": 7,
   "id": "5ae42bea",
   "metadata": {},
   "outputs": [
    {
     "ename": "NameError",
     "evalue": "name 'lista_geral' is not defined",
     "output_type": "error",
     "traceback": [
      "\u001b[1;31m---------------------------------------------------------------------------\u001b[0m",
      "\u001b[1;31mNameError\u001b[0m                                 Traceback (most recent call last)",
      "Cell \u001b[1;32mIn [7], line 4\u001b[0m\n\u001b[0;32m      1\u001b[0m \u001b[38;5;66;03m# === FEATURE ENGINEERING ===\u001b[39;00m\n\u001b[0;32m      2\u001b[0m \n\u001b[0;32m      3\u001b[0m \u001b[38;5;66;03m# Compras sem pagamento\u001b[39;00m\n\u001b[1;32m----> 4\u001b[0m \u001b[43mlista_geral\u001b[49m[\u001b[38;5;124m'\u001b[39m\u001b[38;5;124mpagamento\u001b[39m\u001b[38;5;124m'\u001b[39m] \u001b[38;5;241m=\u001b[39m \u001b[38;5;241m1\u001b[39m\n\u001b[0;32m      5\u001b[0m lista_geral\u001b[38;5;241m.\u001b[39mloc[lista_geral\u001b[38;5;241m.\u001b[39mdt_pgto\u001b[38;5;241m.\u001b[39misnull(), \u001b[38;5;124m'\u001b[39m\u001b[38;5;124mpagamento\u001b[39m\u001b[38;5;124m'\u001b[39m] \u001b[38;5;241m=\u001b[39m \u001b[38;5;241m0\u001b[39m\n\u001b[0;32m      7\u001b[0m \u001b[38;5;66;03m# Tempo entre compra e pagamento\u001b[39;00m\n",
      "\u001b[1;31mNameError\u001b[0m: name 'lista_geral' is not defined"
     ]
    }
   ],
   "source": [
    "# === FEATURE ENGINEERING ===\n",
    "\n",
    "# Compras sem pagamento\n",
    "lista_geral['pagamento'] = 1\n",
    "lista_geral.loc[lista_geral.dt_pgto.isnull(), 'pagamento'] = 0\n",
    "\n",
    "# Tempo entre compra e pagamento\n",
    "lista_geral['tempo_pagamento'] = (lista_geral.dt_pgto - lista_geral.dt_venda).dt.days\n",
    "\n",
    "# Idade dos Clientes\n",
    "lista_geral['cliente_idade'] = np.floor((pd.to_datetime('today') - lista_geral.cliente_dt_nasc)/np.timedelta64(1, 'Y'))"
   ]
  },
  {
   "cell_type": "markdown",
   "id": "2971b555",
   "metadata": {},
   "source": [
    "# Análise - parte 01"
   ]
  },
  {
   "cell_type": "markdown",
   "id": "0be109a6",
   "metadata": {},
   "source": [
    "Perguntas para análise:\n",
    "- Quais lojas mais vendem?\n",
    "- Quais produtos mais vendem?\n",
    "- Quais lojas geram maior receita?\n",
    "- Quais produtos geram maior receita?"
   ]
  },
  {
   "cell_type": "markdown",
   "id": "f8866e60",
   "metadata": {},
   "source": [
    "## Lojas que mais vendem"
   ]
  },
  {
   "cell_type": "code",
   "execution_count": 6,
   "id": "fdaeea98",
   "metadata": {},
   "outputs": [
    {
     "ename": "NameError",
     "evalue": "name 'lista_geral' is not defined",
     "output_type": "error",
     "traceback": [
      "\u001b[1;31m---------------------------------------------------------------------------\u001b[0m",
      "\u001b[1;31mNameError\u001b[0m                                 Traceback (most recent call last)",
      "Cell \u001b[1;32mIn [6], line 1\u001b[0m\n\u001b[1;32m----> 1\u001b[0m \u001b[43mlista_geral\u001b[49m\n",
      "\u001b[1;31mNameError\u001b[0m: name 'lista_geral' is not defined"
     ]
    }
   ],
   "source": [
    "lista_geral"
   ]
  },
  {
   "cell_type": "code",
   "execution_count": null,
   "id": "51946e0f",
   "metadata": {},
   "outputs": [],
   "source": [
    "\"\"\"\n",
    "Primeiro passo: Definir a coluna das lojas - loja_cidade\n",
    "Segundo passo: Agrupar os dados nos valores desta coluna\n",
    "obs: Não imprime os valores, pq retorna uma lista de dataframes (1 por cidade)\n",
    "\"\"\"\n",
    "\n",
    "lista_geral.groupby('loja_cidade')\n"
   ]
  },
  {
   "cell_type": "code",
   "execution_count": 5,
   "id": "a4351347",
   "metadata": {},
   "outputs": [
    {
     "ename": "NameError",
     "evalue": "name 'lista_geral' is not defined",
     "output_type": "error",
     "traceback": [
      "\u001b[1;31m---------------------------------------------------------------------------\u001b[0m",
      "\u001b[1;31mNameError\u001b[0m                                 Traceback (most recent call last)",
      "Cell \u001b[1;32mIn [5], line 6\u001b[0m\n\u001b[0;32m      1\u001b[0m \u001b[38;5;124;03m\"\"\"\u001b[39;00m\n\u001b[0;32m      2\u001b[0m \u001b[38;5;124;03mQuando quer retornar apenas a quantidade de vendas (\"que mais vendem\")\u001b[39;00m\n\u001b[0;32m      3\u001b[0m \u001b[38;5;124;03mse usa a função count()\u001b[39;00m\n\u001b[0;32m      4\u001b[0m \u001b[38;5;124;03m\"\"\"\u001b[39;00m\n\u001b[1;32m----> 6\u001b[0m \u001b[43mlista_geral\u001b[49m\u001b[38;5;241m.\u001b[39mgroupby(\u001b[38;5;124m'\u001b[39m\u001b[38;5;124mloja_cidade\u001b[39m\u001b[38;5;124m'\u001b[39m)\u001b[38;5;241m.\u001b[39mcount()\n",
      "\u001b[1;31mNameError\u001b[0m: name 'lista_geral' is not defined"
     ]
    }
   ],
   "source": [
    "\"\"\"\n",
    "Quando quer retornar apenas a quantidade de vendas (\"que mais vendem\")\n",
    "se usa a função count()\n",
    "\"\"\"\n",
    "\n",
    "lista_geral.groupby('loja_cidade').count()"
   ]
  },
  {
   "cell_type": "code",
   "execution_count": null,
   "id": "2f7322f7",
   "metadata": {},
   "outputs": [],
   "source": [
    "lista_geral.groupby('loja_cidade').count().produto_produto"
   ]
  },
  {
   "cell_type": "code",
   "execution_count": null,
   "id": "f72e26e6",
   "metadata": {},
   "outputs": [],
   "source": [
    "\"\"\"\n",
    "Para ordenar a contagem do dataframe, se usa a função sort_values()\n",
    "\"\"\"\n",
    "lista_geral.groupby('loja_cidade').count().produto_produto.sort_values()"
   ]
  },
  {
   "cell_type": "code",
   "execution_count": 19,
   "id": "93288b41",
   "metadata": {},
   "outputs": [
    {
     "data": {
      "text/plain": [
       "loja_cidade\n",
       "Belo Horizonte    118\n",
       "São Paulo         114\n",
       "Recife            110\n",
       "Palmas            107\n",
       "Curitiba           99\n",
       "Salvador           99\n",
       "Vitória            95\n",
       "Santa Catarina     92\n",
       "Brasília           83\n",
       "Rio de Janeiro     83\n",
       "Name: produto_produto, dtype: int64"
      ]
     },
     "execution_count": 19,
     "metadata": {},
     "output_type": "execute_result"
    }
   ],
   "source": [
    "\"\"\"\n",
    "Para ordenar de forma inversa (do maior para menor), basta mudar para\n",
    "false a propriedade ascending\n",
    "\"\"\"\n",
    "lista_geral.groupby('loja_cidade').count().produto_produto.sort_values(ascending=False)"
   ]
  },
  {
   "cell_type": "code",
   "execution_count": 2,
   "id": "83bd5090",
   "metadata": {},
   "outputs": [
    {
     "ename": "NameError",
     "evalue": "name 'lista_geral' is not defined",
     "output_type": "error",
     "traceback": [
      "\u001b[1;31m---------------------------------------------------------------------------\u001b[0m",
      "\u001b[1;31mNameError\u001b[0m                                 Traceback (most recent call last)",
      "Cell \u001b[1;32mIn [2], line 6\u001b[0m\n\u001b[0;32m      1\u001b[0m \u001b[38;5;124;03m\"\"\"\u001b[39;00m\n\u001b[0;32m      2\u001b[0m \u001b[38;5;124;03mCURIOSIDADE: se desejar ver as 3 cidades que mais venderam (top 3)\u001b[39;00m\n\u001b[0;32m      3\u001b[0m \u001b[38;5;124;03m se usa a função head()\u001b[39;00m\n\u001b[0;32m      4\u001b[0m \u001b[38;5;124;03m\"\"\"\u001b[39;00m\n\u001b[1;32m----> 6\u001b[0m \u001b[43mlista_geral\u001b[49m\u001b[38;5;241m.\u001b[39mgroupby(\u001b[38;5;124m'\u001b[39m\u001b[38;5;124mloja_cidade\u001b[39m\u001b[38;5;124m'\u001b[39m)\u001b[38;5;241m.\u001b[39mcount()\u001b[38;5;241m.\u001b[39mproduto_produto\u001b[38;5;241m.\u001b[39msort_values(ascending\u001b[38;5;241m=\u001b[39m\u001b[38;5;28;01mFalse\u001b[39;00m)\u001b[38;5;241m.\u001b[39mhead(\u001b[38;5;241m3\u001b[39m)\n",
      "\u001b[1;31mNameError\u001b[0m: name 'lista_geral' is not defined"
     ]
    }
   ],
   "source": [
    "\"\"\"\n",
    "CURIOSIDADE: se desejar ver as 3 cidades que mais venderam (top 3)\n",
    " se usa a função head()\n",
    "\"\"\"\n",
    "\n",
    "lista_geral.groupby('loja_cidade').count().produto_produto.sort_values(ascending=False).head(3)"
   ]
  },
  {
   "cell_type": "code",
   "execution_count": 4,
   "id": "15171f75",
   "metadata": {},
   "outputs": [
    {
     "ename": "NameError",
     "evalue": "name 'lista_geral' is not defined",
     "output_type": "error",
     "traceback": [
      "\u001b[1;31m---------------------------------------------------------------------------\u001b[0m",
      "\u001b[1;31mNameError\u001b[0m                                 Traceback (most recent call last)",
      "Cell \u001b[1;32mIn [4], line 6\u001b[0m\n\u001b[0;32m      1\u001b[0m \u001b[38;5;124;03m\"\"\"\u001b[39;00m\n\u001b[0;32m      2\u001b[0m \u001b[38;5;124;03mGerando gráfico de barras, primeiro passa o eixo x (lojas-index)\u001b[39;00m\n\u001b[0;32m      3\u001b[0m \u001b[38;5;124;03me depois o eixo y (contagem-values)\u001b[39;00m\n\u001b[0;32m      4\u001b[0m \u001b[38;5;124;03m\"\"\"\u001b[39;00m\n\u001b[1;32m----> 6\u001b[0m grafico_lojas \u001b[38;5;241m=\u001b[39m \u001b[43mlista_geral\u001b[49m\u001b[38;5;241m.\u001b[39mgroupby(\u001b[38;5;124m'\u001b[39m\u001b[38;5;124mloja_cidade\u001b[39m\u001b[38;5;124m'\u001b[39m)\u001b[38;5;241m.\u001b[39mcount()\u001b[38;5;241m.\u001b[39mproduto_produto\u001b[38;5;241m.\u001b[39msort_values(ascending\u001b[38;5;241m=\u001b[39m\u001b[38;5;28;01mFalse\u001b[39;00m)\n\u001b[0;32m      8\u001b[0m plt\u001b[38;5;241m.\u001b[39mbar(grafico_lojas\u001b[38;5;241m.\u001b[39mindex, grafico_lojas\u001b[38;5;241m.\u001b[39mvalues)\n\u001b[0;32m      9\u001b[0m plt\u001b[38;5;241m.\u001b[39mtitle(\u001b[38;5;124m'\u001b[39m\u001b[38;5;124mQuantidade de Vendas por Loja\u001b[39m\u001b[38;5;124m'\u001b[39m)\n",
      "\u001b[1;31mNameError\u001b[0m: name 'lista_geral' is not defined"
     ]
    }
   ],
   "source": [
    "\"\"\"\n",
    "Gerando gráfico de barras, primeiro passa o eixo x (lojas-index)\n",
    "e depois o eixo y (contagem-values)\n",
    "\"\"\"\n",
    "\n",
    "grafico_lojas = lista_geral.groupby('loja_cidade').count().produto_produto.sort_values(ascending=False)\n",
    "\n",
    "plt.bar(grafico_lojas.index, grafico_lojas.values)\n",
    "plt.title('Quantidade de Vendas por Loja')\n",
    "plt.show()"
   ]
  },
  {
   "cell_type": "code",
   "execution_count": 3,
   "id": "0bae0717",
   "metadata": {},
   "outputs": [
    {
     "ename": "NameError",
     "evalue": "name 'lista_geral' is not defined",
     "output_type": "error",
     "traceback": [
      "\u001b[1;31m---------------------------------------------------------------------------\u001b[0m",
      "\u001b[1;31mNameError\u001b[0m                                 Traceback (most recent call last)",
      "Cell \u001b[1;32mIn [3], line 5\u001b[0m\n\u001b[0;32m      1\u001b[0m \u001b[38;5;124;03m\"\"\"\u001b[39;00m\n\u001b[0;32m      2\u001b[0m \u001b[38;5;124;03mA função xticks rotaciona as legendas do eixo x\u001b[39;00m\n\u001b[0;32m      3\u001b[0m \u001b[38;5;124;03m\"\"\"\u001b[39;00m\n\u001b[1;32m----> 5\u001b[0m grafico_lojas \u001b[38;5;241m=\u001b[39m \u001b[43mlista_geral\u001b[49m\u001b[38;5;241m.\u001b[39mgroupby(\u001b[38;5;124m'\u001b[39m\u001b[38;5;124mloja_cidade\u001b[39m\u001b[38;5;124m'\u001b[39m)\u001b[38;5;241m.\u001b[39mcount()\u001b[38;5;241m.\u001b[39mproduto_produto\u001b[38;5;241m.\u001b[39msort_values(ascending\u001b[38;5;241m=\u001b[39m\u001b[38;5;28;01mFalse\u001b[39;00m)\n\u001b[0;32m      7\u001b[0m plt\u001b[38;5;241m.\u001b[39mbar(grafico_lojas\u001b[38;5;241m.\u001b[39mindex, grafico_lojas\u001b[38;5;241m.\u001b[39mvalues)\n\u001b[0;32m      8\u001b[0m plt\u001b[38;5;241m.\u001b[39mtitle(\u001b[38;5;124m'\u001b[39m\u001b[38;5;124mQuantidade de Vendas por Loja\u001b[39m\u001b[38;5;124m'\u001b[39m)\n",
      "\u001b[1;31mNameError\u001b[0m: name 'lista_geral' is not defined"
     ]
    }
   ],
   "source": [
    "\"\"\"\n",
    "A função xticks rotaciona as legendas do eixo x\n",
    "\"\"\"\n",
    "\n",
    "grafico_lojas = lista_geral.groupby('loja_cidade').count().produto_produto.sort_values(ascending=False)\n",
    "\n",
    "plt.bar(grafico_lojas.index, grafico_lojas.values)\n",
    "plt.title('Quantidade de Vendas por Loja')\n",
    "plt.xticks(rotation=45)\n",
    "plt.show()"
   ]
  },
  {
   "cell_type": "code",
   "execution_count": null,
   "id": "2807e58f",
   "metadata": {},
   "outputs": [],
   "source": [
    "\"\"\"\n",
    "Para aumentar proporcionalmente (largura x altura)\n",
    "o tamanho do gráfico, se usa a função figure() junto com\n",
    "a propriedade figsize\n",
    "\n",
    "\"\"\"\n",
    "\n",
    "grafico_lojas = lista_geral.groupby('loja_cidade').count().produto_produto.sort_values(ascending=False)\n",
    "\n",
    "plt.figure(figsize=(13,5))\n",
    "plt.bar(grafico_lojas.index, grafico_lojas.values)\n",
    "plt.title('Quantidade de Vendas por Loja')\n",
    "plt.xticks(rotation=45)\n",
    "plt.show()"
   ]
  },
  {
   "cell_type": "markdown",
   "id": "0fc9486b",
   "metadata": {},
   "source": [
    "## Produtos que mais vendem"
   ]
  },
  {
   "cell_type": "code",
   "execution_count": null,
   "id": "a39e7a2c",
   "metadata": {},
   "outputs": [],
   "source": [
    "grafico_lojas = lista_geral.groupby('loja_cidade').count().produto_produto.sort_values(ascending=False)\n",
    "\n",
    "plt.figure(figsize=(13,5))\n",
    "plt.bar(grafico_lojas.index, grafico_lojas.values)\n",
    "plt.title('Produtos mais vendidos')\n",
    "plt.xticks(rotation=45)\n",
    "plt.show()"
   ]
  },
  {
   "cell_type": "markdown",
   "id": "b65cded6",
   "metadata": {},
   "source": [
    "## Quais lojas geram maior receita?"
   ]
  },
  {
   "cell_type": "markdown",
   "id": "3480817e",
   "metadata": {},
   "source": [
    "## Quais produtos geram maior receita?"
   ]
  }
 ],
 "metadata": {
  "kernelspec": {
   "display_name": "Python 3 (ipykernel)",
   "language": "python",
   "name": "python3"
  },
  "language_info": {
   "codemirror_mode": {
    "name": "ipython",
    "version": 3
   },
   "file_extension": ".py",
   "mimetype": "text/x-python",
   "name": "python",
   "nbconvert_exporter": "python",
   "pygments_lexer": "ipython3",
   "version": "3.10.7"
  }
 },
 "nbformat": 4,
 "nbformat_minor": 5
}
