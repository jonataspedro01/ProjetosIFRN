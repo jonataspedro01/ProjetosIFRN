{
 "cells": [
  {
   "cell_type": "code",
<<<<<<< HEAD
   "execution_count": 1,
=======
   "execution_count": 3,
>>>>>>> c37934cd5549865880b91acf61d168c93ebf0a70
   "id": "316b4bad",
   "metadata": {},
   "outputs": [
    {
     "ename": "ModuleNotFoundError",
     "evalue": "No module named 'matplotlib'",
     "output_type": "error",
     "traceback": [
      "\u001b[1;31m---------------------------------------------------------------------------\u001b[0m",
      "\u001b[1;31mModuleNotFoundError\u001b[0m                       Traceback (most recent call last)",
      "Cell \u001b[1;32mIn [1], line 3\u001b[0m\n\u001b[0;32m      1\u001b[0m \u001b[38;5;28;01mimport\u001b[39;00m \u001b[38;5;21;01mpandas\u001b[39;00m \u001b[38;5;28;01mas\u001b[39;00m \u001b[38;5;21;01mpd\u001b[39;00m\n\u001b[0;32m      2\u001b[0m \u001b[38;5;28;01mimport\u001b[39;00m \u001b[38;5;21;01mnumpy\u001b[39;00m \u001b[38;5;28;01mas\u001b[39;00m \u001b[38;5;21;01mnp\u001b[39;00m\n\u001b[1;32m----> 3\u001b[0m \u001b[38;5;28;01mimport\u001b[39;00m \u001b[38;5;21;01mmatplotlib\u001b[39;00m\u001b[38;5;21;01m.\u001b[39;00m\u001b[38;5;21;01mpyplot\u001b[39;00m \u001b[38;5;28;01mas\u001b[39;00m \u001b[38;5;21;01mplt\u001b[39;00m\n\u001b[0;32m      4\u001b[0m get_ipython()\u001b[38;5;241m.\u001b[39mrun_line_magic(\u001b[38;5;124m'\u001b[39m\u001b[38;5;124mmatplotlib\u001b[39m\u001b[38;5;124m'\u001b[39m, \u001b[38;5;124m'\u001b[39m\u001b[38;5;124minline\u001b[39m\u001b[38;5;124m'\u001b[39m)\n",
      "\u001b[1;31mModuleNotFoundError\u001b[0m: No module named 'matplotlib'"
     ]
    }
   ],
   "source": [
    "import pandas as pd\n",
    "import numpy as np\n",
    "import matplotlib.pyplot as plt\n",
    "%matplotlib inline"
   ]
  },
  {
   "cell_type": "code",
<<<<<<< HEAD
   "execution_count": null,
=======
   "execution_count": 4,
>>>>>>> c37934cd5549865880b91acf61d168c93ebf0a70
   "id": "9500cced",
   "metadata": {},
   "outputs": [],
   "source": [
    "clientes = pd.read_csv('caso_estudo_clientes.csv', sep=';')\n",
    "vendas = pd.read_csv('caso_estudo_vendas.csv', sep=';')\n",
    "produtos = pd.read_csv('caso_estudo_produtos.csv', sep=';')\n",
    "pagamentos = pd.read_csv('caso_estudo_pagamentos.csv', sep=';')\n",
    "lojas = pd.read_csv('caso_estudo_lojas.csv', sep=';')"
   ]
  },
  {
   "cell_type": "code",
<<<<<<< HEAD
   "execution_count": null,
=======
   "execution_count": 5,
>>>>>>> c37934cd5549865880b91acf61d168c93ebf0a70
   "id": "2b75e628",
   "metadata": {},
   "outputs": [],
   "source": [
    "# === LIMPEZA ===\n",
    "\n",
    "#Ajustando dados nulos\n",
    "clientes.loc[clientes.nome.isnull(),'nome'] = 'Sem Nome'\n",
    "clientes.loc[clientes.sexo.isnull(),'sexo'] = 'o'\n",
    "clientes.loc[clientes.dt_nasc.isnull(),'dt_nasc'] = '1/24/2023'\n",
    "produtos.loc[9,'valor'] = 3500\n",
    "produtos.loc[9,'produto'] = 'Monitor Gamer'\n",
    "\n",
    "#Ajustando Datas\n",
    "clientes.dt_nasc = pd.to_datetime(clientes.dt_nasc, format='%m/%d/%Y')\n",
    "vendas.dt_venda = pd.to_datetime(vendas.dt_venda, format='%d/%m/%Y')\n",
    "pagamentos.dt_pgto = pd.to_datetime(pagamentos.dt_pgto, format='%d/%m/%Y')\n",
    "\n",
    "#Índices\n",
    "clientes = clientes.set_index('id')\n",
    "vendas = vendas.set_index('id')\n",
    "produtos = produtos.set_index('id')\n",
    "pagamentos = pagamentos.set_index('id')\n",
    "lojas = lojas.set_index('id')\n"
   ]
  },
  {
   "cell_type": "code",
<<<<<<< HEAD
   "execution_count": 9,
=======
   "execution_count": 6,
>>>>>>> c37934cd5549865880b91acf61d168c93ebf0a70
   "id": "d496cce2",
   "metadata": {},
   "outputs": [
    {
     "ename": "NameError",
     "evalue": "name 'vendas' is not defined",
     "output_type": "error",
     "traceback": [
      "\u001b[1;31m---------------------------------------------------------------------------\u001b[0m",
      "\u001b[1;31mNameError\u001b[0m                                 Traceback (most recent call last)",
      "Cell \u001b[1;32mIn [9], line 3\u001b[0m\n\u001b[0;32m      1\u001b[0m \u001b[38;5;66;03m# === FUSION ===\u001b[39;00m\n\u001b[1;32m----> 3\u001b[0m lista_geral \u001b[38;5;241m=\u001b[39m \u001b[43mvendas\u001b[49m\u001b[38;5;241m.\u001b[39mjoin(clientes\u001b[38;5;241m.\u001b[39madd_prefix(\u001b[38;5;124m'\u001b[39m\u001b[38;5;124mcliente_\u001b[39m\u001b[38;5;124m'\u001b[39m), on\u001b[38;5;241m=\u001b[39m\u001b[38;5;124m'\u001b[39m\u001b[38;5;124mid_cliente\u001b[39m\u001b[38;5;124m'\u001b[39m)\n\u001b[0;32m      4\u001b[0m lista_geral \u001b[38;5;241m=\u001b[39m lista_geral\u001b[38;5;241m.\u001b[39mjoin(produtos\u001b[38;5;241m.\u001b[39madd_prefix(\u001b[38;5;124m'\u001b[39m\u001b[38;5;124mproduto_\u001b[39m\u001b[38;5;124m'\u001b[39m), on\u001b[38;5;241m=\u001b[39m\u001b[38;5;124m'\u001b[39m\u001b[38;5;124mid_produto\u001b[39m\u001b[38;5;124m'\u001b[39m)\n\u001b[0;32m      5\u001b[0m lista_geral \u001b[38;5;241m=\u001b[39m lista_geral\u001b[38;5;241m.\u001b[39mjoin(lojas\u001b[38;5;241m.\u001b[39madd_prefix(\u001b[38;5;124m'\u001b[39m\u001b[38;5;124mloja_\u001b[39m\u001b[38;5;124m'\u001b[39m), on\u001b[38;5;241m=\u001b[39m\u001b[38;5;124m'\u001b[39m\u001b[38;5;124mid_loja\u001b[39m\u001b[38;5;124m'\u001b[39m)\n",
      "\u001b[1;31mNameError\u001b[0m: name 'vendas' is not defined"
     ]
    }
   ],
   "source": [
    "# === FUSION ===\n",
    "\n",
    "lista_geral = vendas.join(clientes.add_prefix('cliente_'), on='id_cliente')\n",
    "lista_geral = lista_geral.join(produtos.add_prefix('produto_'), on='id_produto')\n",
    "lista_geral = lista_geral.join(lojas.add_prefix('loja_'), on='id_loja')\n",
    "lista_geral = lista_geral.join(pagamentos.set_index('id_venda'))"
   ]
  },
  {
   "cell_type": "code",
   "execution_count": 7,
   "id": "5ae42bea",
   "metadata": {},
   "outputs": [
    {
     "ename": "NameError",
     "evalue": "name 'lista_geral' is not defined",
     "output_type": "error",
     "traceback": [
      "\u001b[1;31m---------------------------------------------------------------------------\u001b[0m",
      "\u001b[1;31mNameError\u001b[0m                                 Traceback (most recent call last)",
      "Cell \u001b[1;32mIn [7], line 4\u001b[0m\n\u001b[0;32m      1\u001b[0m \u001b[38;5;66;03m# === FEATURE ENGINEERING ===\u001b[39;00m\n\u001b[0;32m      2\u001b[0m \n\u001b[0;32m      3\u001b[0m \u001b[38;5;66;03m# Compras sem pagamento\u001b[39;00m\n\u001b[1;32m----> 4\u001b[0m \u001b[43mlista_geral\u001b[49m[\u001b[38;5;124m'\u001b[39m\u001b[38;5;124mpagamento\u001b[39m\u001b[38;5;124m'\u001b[39m] \u001b[38;5;241m=\u001b[39m \u001b[38;5;241m1\u001b[39m\n\u001b[0;32m      5\u001b[0m lista_geral\u001b[38;5;241m.\u001b[39mloc[lista_geral\u001b[38;5;241m.\u001b[39mdt_pgto\u001b[38;5;241m.\u001b[39misnull(), \u001b[38;5;124m'\u001b[39m\u001b[38;5;124mpagamento\u001b[39m\u001b[38;5;124m'\u001b[39m] \u001b[38;5;241m=\u001b[39m \u001b[38;5;241m0\u001b[39m\n\u001b[0;32m      7\u001b[0m \u001b[38;5;66;03m# Tempo entre compra e pagamento\u001b[39;00m\n",
      "\u001b[1;31mNameError\u001b[0m: name 'lista_geral' is not defined"
     ]
    }
   ],
   "source": [
    "# === FEATURE ENGINEERING ===\n",
    "\n",
    "# Compras sem pagamento\n",
    "lista_geral['pagamento'] = 1\n",
    "lista_geral.loc[lista_geral.dt_pgto.isnull(), 'pagamento'] = 0\n",
    "\n",
    "# Tempo entre compra e pagamento\n",
    "lista_geral['tempo_pagamento'] = (lista_geral.dt_pgto - lista_geral.dt_venda).dt.days\n",
    "\n",
    "# Idade dos Clientes\n",
    "lista_geral['cliente_idade'] = np.floor((pd.to_datetime('today') - lista_geral.cliente_dt_nasc)/np.timedelta64(1, 'Y'))"
   ]
  },
  {
   "cell_type": "markdown",
   "id": "2971b555",
   "metadata": {},
   "source": [
    "# Análise - parte 01"
   ]
  },
  {
   "cell_type": "markdown",
   "id": "0be109a6",
   "metadata": {},
   "source": [
    "Perguntas para análise:\n",
    "- Quais lojas mais vendem?\n",
    "- Quais produtos mais vendem?\n",
    "- Quais lojas geram maior receita?\n",
    "- Quais produtos geram maior receita?"
   ]
  },
  {
   "cell_type": "markdown",
   "id": "f8866e60",
   "metadata": {},
   "source": [
    "## Lojas que mais vendem"
   ]
  },
  {
   "cell_type": "code",
<<<<<<< HEAD
   "execution_count": 6,
=======
   "execution_count": 8,
>>>>>>> c37934cd5549865880b91acf61d168c93ebf0a70
   "id": "fdaeea98",
   "metadata": {},
   "outputs": [
    {
<<<<<<< HEAD
     "ename": "NameError",
     "evalue": "name 'lista_geral' is not defined",
     "output_type": "error",
     "traceback": [
      "\u001b[1;31m---------------------------------------------------------------------------\u001b[0m",
      "\u001b[1;31mNameError\u001b[0m                                 Traceback (most recent call last)",
      "Cell \u001b[1;32mIn [6], line 1\u001b[0m\n\u001b[1;32m----> 1\u001b[0m \u001b[43mlista_geral\u001b[49m\n",
      "\u001b[1;31mNameError\u001b[0m: name 'lista_geral' is not defined"
     ]
=======
     "data": {
      "text/html": [
       "<div>\n",
       "<style scoped>\n",
       "    .dataframe tbody tr th:only-of-type {\n",
       "        vertical-align: middle;\n",
       "    }\n",
       "\n",
       "    .dataframe tbody tr th {\n",
       "        vertical-align: top;\n",
       "    }\n",
       "\n",
       "    .dataframe thead th {\n",
       "        text-align: right;\n",
       "    }\n",
       "</style>\n",
       "<table border=\"1\" class=\"dataframe\">\n",
       "  <thead>\n",
       "    <tr style=\"text-align: right;\">\n",
       "      <th></th>\n",
       "      <th>id_cliente</th>\n",
       "      <th>id_loja</th>\n",
       "      <th>id_produto</th>\n",
       "      <th>dt_venda</th>\n",
       "      <th>cliente_nome</th>\n",
       "      <th>cliente_sexo</th>\n",
       "      <th>cliente_dt_nasc</th>\n",
       "      <th>produto_produto</th>\n",
       "      <th>produto_valor</th>\n",
       "      <th>loja_cidade</th>\n",
       "      <th>dt_pgto</th>\n",
       "      <th>pagamento</th>\n",
       "      <th>tempo_pagamento</th>\n",
       "      <th>cliente_idade</th>\n",
       "    </tr>\n",
       "  </thead>\n",
       "  <tbody>\n",
       "    <tr>\n",
       "      <th>1.0</th>\n",
       "      <td>620</td>\n",
       "      <td>3</td>\n",
       "      <td>2</td>\n",
       "      <td>2018-11-07</td>\n",
       "      <td>Lucas Cardoso</td>\n",
       "      <td>M</td>\n",
       "      <td>1941-10-20</td>\n",
       "      <td>teclado</td>\n",
       "      <td>30.0</td>\n",
       "      <td>Curitiba</td>\n",
       "      <td>2018-11-28</td>\n",
       "      <td>1</td>\n",
       "      <td>21.0</td>\n",
       "      <td>81.0</td>\n",
       "    </tr>\n",
       "    <tr>\n",
       "      <th>2.0</th>\n",
       "      <td>483</td>\n",
       "      <td>1</td>\n",
       "      <td>9</td>\n",
       "      <td>2018-01-06</td>\n",
       "      <td>Enzo Goncalves</td>\n",
       "      <td>M</td>\n",
       "      <td>1938-06-01</td>\n",
       "      <td>mesa</td>\n",
       "      <td>860.0</td>\n",
       "      <td>São Paulo</td>\n",
       "      <td>2018-02-12</td>\n",
       "      <td>1</td>\n",
       "      <td>37.0</td>\n",
       "      <td>84.0</td>\n",
       "    </tr>\n",
       "    <tr>\n",
       "      <th>3.0</th>\n",
       "      <td>976</td>\n",
       "      <td>8</td>\n",
       "      <td>3</td>\n",
       "      <td>2018-04-10</td>\n",
       "      <td>Emily Correia</td>\n",
       "      <td>F</td>\n",
       "      <td>1951-03-10</td>\n",
       "      <td>laptop básico</td>\n",
       "      <td>2300.0</td>\n",
       "      <td>Brasília</td>\n",
       "      <td>2018-05-23</td>\n",
       "      <td>1</td>\n",
       "      <td>43.0</td>\n",
       "      <td>71.0</td>\n",
       "    </tr>\n",
       "    <tr>\n",
       "      <th>4.0</th>\n",
       "      <td>389</td>\n",
       "      <td>5</td>\n",
       "      <td>6</td>\n",
       "      <td>2020-07-05</td>\n",
       "      <td>Marcos Rocha</td>\n",
       "      <td>M</td>\n",
       "      <td>1999-02-04</td>\n",
       "      <td>impressora</td>\n",
       "      <td>700.0</td>\n",
       "      <td>Santa Catarina</td>\n",
       "      <td>2020-07-13</td>\n",
       "      <td>1</td>\n",
       "      <td>8.0</td>\n",
       "      <td>23.0</td>\n",
       "    </tr>\n",
       "    <tr>\n",
       "      <th>5.0</th>\n",
       "      <td>626</td>\n",
       "      <td>7</td>\n",
       "      <td>8</td>\n",
       "      <td>2018-07-22</td>\n",
       "      <td>Yasmin Silva</td>\n",
       "      <td>F</td>\n",
       "      <td>1954-08-17</td>\n",
       "      <td>cadeira</td>\n",
       "      <td>540.0</td>\n",
       "      <td>Salvador</td>\n",
       "      <td>2018-08-23</td>\n",
       "      <td>1</td>\n",
       "      <td>32.0</td>\n",
       "      <td>68.0</td>\n",
       "    </tr>\n",
       "    <tr>\n",
       "      <th>...</th>\n",
       "      <td>...</td>\n",
       "      <td>...</td>\n",
       "      <td>...</td>\n",
       "      <td>...</td>\n",
       "      <td>...</td>\n",
       "      <td>...</td>\n",
       "      <td>...</td>\n",
       "      <td>...</td>\n",
       "      <td>...</td>\n",
       "      <td>...</td>\n",
       "      <td>...</td>\n",
       "      <td>...</td>\n",
       "      <td>...</td>\n",
       "      <td>...</td>\n",
       "    </tr>\n",
       "    <tr>\n",
       "      <th>996.0</th>\n",
       "      <td>641</td>\n",
       "      <td>8</td>\n",
       "      <td>5</td>\n",
       "      <td>2018-03-27</td>\n",
       "      <td>Danilo Cavalcanti</td>\n",
       "      <td>M</td>\n",
       "      <td>1977-07-11</td>\n",
       "      <td>monitor</td>\n",
       "      <td>1500.0</td>\n",
       "      <td>Brasília</td>\n",
       "      <td>2018-05-07</td>\n",
       "      <td>1</td>\n",
       "      <td>41.0</td>\n",
       "      <td>45.0</td>\n",
       "    </tr>\n",
       "    <tr>\n",
       "      <th>997.0</th>\n",
       "      <td>325</td>\n",
       "      <td>4</td>\n",
       "      <td>1</td>\n",
       "      <td>2019-07-26</td>\n",
       "      <td>Melissa Cavalcanti</td>\n",
       "      <td>F</td>\n",
       "      <td>1975-06-06</td>\n",
       "      <td>mouse</td>\n",
       "      <td>20.0</td>\n",
       "      <td>Belo Horizonte</td>\n",
       "      <td>2019-09-02</td>\n",
       "      <td>1</td>\n",
       "      <td>38.0</td>\n",
       "      <td>47.0</td>\n",
       "    </tr>\n",
       "    <tr>\n",
       "      <th>998.0</th>\n",
       "      <td>765</td>\n",
       "      <td>6</td>\n",
       "      <td>8</td>\n",
       "      <td>2018-03-24</td>\n",
       "      <td>Victor Alves</td>\n",
       "      <td>M</td>\n",
       "      <td>1961-06-21</td>\n",
       "      <td>cadeira</td>\n",
       "      <td>540.0</td>\n",
       "      <td>Recife</td>\n",
       "      <td>2018-04-01</td>\n",
       "      <td>1</td>\n",
       "      <td>8.0</td>\n",
       "      <td>61.0</td>\n",
       "    </tr>\n",
       "    <tr>\n",
       "      <th>999.0</th>\n",
       "      <td>217</td>\n",
       "      <td>10</td>\n",
       "      <td>3</td>\n",
       "      <td>2018-08-23</td>\n",
       "      <td>Rafaela Almeida</td>\n",
       "      <td>F</td>\n",
       "      <td>2003-07-25</td>\n",
       "      <td>laptop básico</td>\n",
       "      <td>2300.0</td>\n",
       "      <td>Vitória</td>\n",
       "      <td>NaT</td>\n",
       "      <td>0</td>\n",
       "      <td>NaN</td>\n",
       "      <td>19.0</td>\n",
       "    </tr>\n",
       "    <tr>\n",
       "      <th>1000.0</th>\n",
       "      <td>330</td>\n",
       "      <td>9</td>\n",
       "      <td>9</td>\n",
       "      <td>2018-12-25</td>\n",
       "      <td>Matilde Goncalves</td>\n",
       "      <td>F</td>\n",
       "      <td>1948-11-01</td>\n",
       "      <td>mesa</td>\n",
       "      <td>860.0</td>\n",
       "      <td>Palmas</td>\n",
       "      <td>2019-01-15</td>\n",
       "      <td>1</td>\n",
       "      <td>21.0</td>\n",
       "      <td>74.0</td>\n",
       "    </tr>\n",
       "  </tbody>\n",
       "</table>\n",
       "<p>1000 rows × 14 columns</p>\n",
       "</div>"
      ],
      "text/plain": [
       "        id_cliente  id_loja  id_produto   dt_venda        cliente_nome  \\\n",
       "1.0            620        3           2 2018-11-07       Lucas Cardoso   \n",
       "2.0            483        1           9 2018-01-06      Enzo Goncalves   \n",
       "3.0            976        8           3 2018-04-10       Emily Correia   \n",
       "4.0            389        5           6 2020-07-05        Marcos Rocha   \n",
       "5.0            626        7           8 2018-07-22        Yasmin Silva   \n",
       "...            ...      ...         ...        ...                 ...   \n",
       "996.0          641        8           5 2018-03-27   Danilo Cavalcanti   \n",
       "997.0          325        4           1 2019-07-26  Melissa Cavalcanti   \n",
       "998.0          765        6           8 2018-03-24        Victor Alves   \n",
       "999.0          217       10           3 2018-08-23     Rafaela Almeida   \n",
       "1000.0         330        9           9 2018-12-25   Matilde Goncalves   \n",
       "\n",
       "       cliente_sexo cliente_dt_nasc produto_produto  produto_valor  \\\n",
       "1.0               M      1941-10-20         teclado           30.0   \n",
       "2.0               M      1938-06-01            mesa          860.0   \n",
       "3.0               F      1951-03-10   laptop básico         2300.0   \n",
       "4.0               M      1999-02-04      impressora          700.0   \n",
       "5.0               F      1954-08-17         cadeira          540.0   \n",
       "...             ...             ...             ...            ...   \n",
       "996.0             M      1977-07-11         monitor         1500.0   \n",
       "997.0             F      1975-06-06           mouse           20.0   \n",
       "998.0             M      1961-06-21         cadeira          540.0   \n",
       "999.0             F      2003-07-25   laptop básico         2300.0   \n",
       "1000.0            F      1948-11-01            mesa          860.0   \n",
       "\n",
       "           loja_cidade    dt_pgto  pagamento  tempo_pagamento  cliente_idade  \n",
       "1.0           Curitiba 2018-11-28          1             21.0           81.0  \n",
       "2.0          São Paulo 2018-02-12          1             37.0           84.0  \n",
       "3.0           Brasília 2018-05-23          1             43.0           71.0  \n",
       "4.0     Santa Catarina 2020-07-13          1              8.0           23.0  \n",
       "5.0           Salvador 2018-08-23          1             32.0           68.0  \n",
       "...                ...        ...        ...              ...            ...  \n",
       "996.0         Brasília 2018-05-07          1             41.0           45.0  \n",
       "997.0   Belo Horizonte 2019-09-02          1             38.0           47.0  \n",
       "998.0           Recife 2018-04-01          1              8.0           61.0  \n",
       "999.0          Vitória        NaT          0              NaN           19.0  \n",
       "1000.0          Palmas 2019-01-15          1             21.0           74.0  \n",
       "\n",
       "[1000 rows x 14 columns]"
      ]
     },
     "execution_count": 8,
     "metadata": {},
     "output_type": "execute_result"
>>>>>>> c37934cd5549865880b91acf61d168c93ebf0a70
    }
   ],
   "source": [
    "lista_geral"
   ]
  },
  {
   "cell_type": "code",
<<<<<<< HEAD
   "execution_count": null,
   "id": "51946e0f",
   "metadata": {},
   "outputs": [],
=======
   "execution_count": 12,
   "id": "51946e0f",
   "metadata": {},
   "outputs": [
    {
     "data": {
      "text/plain": [
       "<pandas.core.groupby.generic.DataFrameGroupBy object at 0x00000267B22A0700>"
      ]
     },
     "execution_count": 12,
     "metadata": {},
     "output_type": "execute_result"
    }
   ],
>>>>>>> c37934cd5549865880b91acf61d168c93ebf0a70
   "source": [
    "\"\"\"\n",
    "Primeiro passo: Definir a coluna das lojas - loja_cidade\n",
    "Segundo passo: Agrupar os dados nos valores desta coluna\n",
    "obs: Não imprime os valores, pq retorna uma lista de dataframes (1 por cidade)\n",
    "\"\"\"\n",
    "\n",
    "lista_geral.groupby('loja_cidade')\n"
   ]
  },
  {
   "cell_type": "code",
   "execution_count": 5,
   "id": "a4351347",
   "metadata": {},
   "outputs": [
    {
     "ename": "NameError",
     "evalue": "name 'lista_geral' is not defined",
     "output_type": "error",
     "traceback": [
      "\u001b[1;31m---------------------------------------------------------------------------\u001b[0m",
      "\u001b[1;31mNameError\u001b[0m                                 Traceback (most recent call last)",
      "Cell \u001b[1;32mIn [5], line 6\u001b[0m\n\u001b[0;32m      1\u001b[0m \u001b[38;5;124;03m\"\"\"\u001b[39;00m\n\u001b[0;32m      2\u001b[0m \u001b[38;5;124;03mQuando quer retornar apenas a quantidade de vendas (\"que mais vendem\")\u001b[39;00m\n\u001b[0;32m      3\u001b[0m \u001b[38;5;124;03mse usa a função count()\u001b[39;00m\n\u001b[0;32m      4\u001b[0m \u001b[38;5;124;03m\"\"\"\u001b[39;00m\n\u001b[1;32m----> 6\u001b[0m \u001b[43mlista_geral\u001b[49m\u001b[38;5;241m.\u001b[39mgroupby(\u001b[38;5;124m'\u001b[39m\u001b[38;5;124mloja_cidade\u001b[39m\u001b[38;5;124m'\u001b[39m)\u001b[38;5;241m.\u001b[39mcount()\n",
      "\u001b[1;31mNameError\u001b[0m: name 'lista_geral' is not defined"
     ]
    }
   ],
   "source": [
    "\"\"\"\n",
    "Quando quer retornar apenas a quantidade de vendas (\"que mais vendem\")\n",
    "se usa a função count()\n",
    "\"\"\"\n",
    "\n",
    "lista_geral.groupby('loja_cidade').count()"
   ]
  },
  {
   "cell_type": "code",
<<<<<<< HEAD
   "execution_count": null,
   "id": "2f7322f7",
   "metadata": {},
   "outputs": [],
=======
   "execution_count": 13,
   "id": "2f7322f7",
   "metadata": {},
   "outputs": [
    {
     "data": {
      "text/plain": [
       "loja_cidade\n",
       "Belo Horizonte    118\n",
       "Brasília           83\n",
       "Curitiba           99\n",
       "Palmas            107\n",
       "Recife            110\n",
       "Rio de Janeiro     83\n",
       "Salvador           99\n",
       "Santa Catarina     92\n",
       "São Paulo         114\n",
       "Vitória            95\n",
       "Name: produto_produto, dtype: int64"
      ]
     },
     "execution_count": 13,
     "metadata": {},
     "output_type": "execute_result"
    }
   ],
>>>>>>> c37934cd5549865880b91acf61d168c93ebf0a70
   "source": [
    "lista_geral.groupby('loja_cidade').count().produto_produto"
   ]
  },
  {
   "cell_type": "code",
<<<<<<< HEAD
   "execution_count": null,
   "id": "f72e26e6",
   "metadata": {},
   "outputs": [],
=======
   "execution_count": 14,
   "id": "f72e26e6",
   "metadata": {},
   "outputs": [
    {
     "data": {
      "text/plain": [
       "loja_cidade\n",
       "Brasília           83\n",
       "Rio de Janeiro     83\n",
       "Santa Catarina     92\n",
       "Vitória            95\n",
       "Curitiba           99\n",
       "Salvador           99\n",
       "Palmas            107\n",
       "Recife            110\n",
       "São Paulo         114\n",
       "Belo Horizonte    118\n",
       "Name: produto_produto, dtype: int64"
      ]
     },
     "execution_count": 14,
     "metadata": {},
     "output_type": "execute_result"
    }
   ],
>>>>>>> c37934cd5549865880b91acf61d168c93ebf0a70
   "source": [
    "\"\"\"\n",
    "Para ordenar a contagem do dataframe, se usa a função sort_values()\n",
    "\"\"\"\n",
    "lista_geral.groupby('loja_cidade').count().produto_produto.sort_values()"
   ]
  },
  {
   "cell_type": "code",
   "execution_count": 15,
   "id": "93288b41",
   "metadata": {},
   "outputs": [
    {
     "data": {
      "text/plain": [
       "loja_cidade\n",
       "Belo Horizonte    118\n",
       "São Paulo         114\n",
       "Recife            110\n",
       "Palmas            107\n",
       "Curitiba           99\n",
       "Salvador           99\n",
       "Vitória            95\n",
       "Santa Catarina     92\n",
       "Brasília           83\n",
       "Rio de Janeiro     83\n",
       "Name: produto_produto, dtype: int64"
      ]
     },
     "execution_count": 15,
     "metadata": {},
     "output_type": "execute_result"
    }
   ],
   "source": [
    "\"\"\"\n",
    "Para ordenar de forma inversa (do maior para menor), basta mudar para\n",
    "false a propriedade ascending\n",
    "\"\"\"\n",
    "lista_geral.groupby('loja_cidade').count().produto_produto.sort_values(ascending=False)"
   ]
  },
  {
   "cell_type": "code",
<<<<<<< HEAD
   "execution_count": 2,
=======
   "execution_count": 16,
>>>>>>> c37934cd5549865880b91acf61d168c93ebf0a70
   "id": "83bd5090",
   "metadata": {},
   "outputs": [
    {
<<<<<<< HEAD
     "ename": "NameError",
     "evalue": "name 'lista_geral' is not defined",
     "output_type": "error",
     "traceback": [
      "\u001b[1;31m---------------------------------------------------------------------------\u001b[0m",
      "\u001b[1;31mNameError\u001b[0m                                 Traceback (most recent call last)",
      "Cell \u001b[1;32mIn [2], line 6\u001b[0m\n\u001b[0;32m      1\u001b[0m \u001b[38;5;124;03m\"\"\"\u001b[39;00m\n\u001b[0;32m      2\u001b[0m \u001b[38;5;124;03mCURIOSIDADE: se desejar ver as 3 cidades que mais venderam (top 3)\u001b[39;00m\n\u001b[0;32m      3\u001b[0m \u001b[38;5;124;03m se usa a função head()\u001b[39;00m\n\u001b[0;32m      4\u001b[0m \u001b[38;5;124;03m\"\"\"\u001b[39;00m\n\u001b[1;32m----> 6\u001b[0m \u001b[43mlista_geral\u001b[49m\u001b[38;5;241m.\u001b[39mgroupby(\u001b[38;5;124m'\u001b[39m\u001b[38;5;124mloja_cidade\u001b[39m\u001b[38;5;124m'\u001b[39m)\u001b[38;5;241m.\u001b[39mcount()\u001b[38;5;241m.\u001b[39mproduto_produto\u001b[38;5;241m.\u001b[39msort_values(ascending\u001b[38;5;241m=\u001b[39m\u001b[38;5;28;01mFalse\u001b[39;00m)\u001b[38;5;241m.\u001b[39mhead(\u001b[38;5;241m3\u001b[39m)\n",
      "\u001b[1;31mNameError\u001b[0m: name 'lista_geral' is not defined"
     ]
=======
     "data": {
      "text/plain": [
       "loja_cidade\n",
       "Belo Horizonte    118\n",
       "São Paulo         114\n",
       "Recife            110\n",
       "Name: produto_produto, dtype: int64"
      ]
     },
     "execution_count": 16,
     "metadata": {},
     "output_type": "execute_result"
>>>>>>> c37934cd5549865880b91acf61d168c93ebf0a70
    }
   ],
   "source": [
    "\"\"\"\n",
    "CURIOSIDADE: se desejar ver as 3 cidades que mais venderam (top 3)\n",
    " se usa a função head()\n",
    "\"\"\"\n",
    "\n",
    "lista_geral.groupby('loja_cidade').count().produto_produto.sort_values(ascending=False).head(3)"
   ]
  },
  {
   "cell_type": "code",
   "execution_count": 4,
   "id": "15171f75",
   "metadata": {},
   "outputs": [
    {
     "ename": "NameError",
     "evalue": "name 'lista_geral' is not defined",
     "output_type": "error",
     "traceback": [
      "\u001b[1;31m---------------------------------------------------------------------------\u001b[0m",
      "\u001b[1;31mNameError\u001b[0m                                 Traceback (most recent call last)",
      "Cell \u001b[1;32mIn [4], line 6\u001b[0m\n\u001b[0;32m      1\u001b[0m \u001b[38;5;124;03m\"\"\"\u001b[39;00m\n\u001b[0;32m      2\u001b[0m \u001b[38;5;124;03mGerando gráfico de barras, primeiro passa o eixo x (lojas-index)\u001b[39;00m\n\u001b[0;32m      3\u001b[0m \u001b[38;5;124;03me depois o eixo y (contagem-values)\u001b[39;00m\n\u001b[0;32m      4\u001b[0m \u001b[38;5;124;03m\"\"\"\u001b[39;00m\n\u001b[1;32m----> 6\u001b[0m grafico_lojas \u001b[38;5;241m=\u001b[39m \u001b[43mlista_geral\u001b[49m\u001b[38;5;241m.\u001b[39mgroupby(\u001b[38;5;124m'\u001b[39m\u001b[38;5;124mloja_cidade\u001b[39m\u001b[38;5;124m'\u001b[39m)\u001b[38;5;241m.\u001b[39mcount()\u001b[38;5;241m.\u001b[39mproduto_produto\u001b[38;5;241m.\u001b[39msort_values(ascending\u001b[38;5;241m=\u001b[39m\u001b[38;5;28;01mFalse\u001b[39;00m)\n\u001b[0;32m      8\u001b[0m plt\u001b[38;5;241m.\u001b[39mbar(grafico_lojas\u001b[38;5;241m.\u001b[39mindex, grafico_lojas\u001b[38;5;241m.\u001b[39mvalues)\n\u001b[0;32m      9\u001b[0m plt\u001b[38;5;241m.\u001b[39mtitle(\u001b[38;5;124m'\u001b[39m\u001b[38;5;124mQuantidade de Vendas por Loja\u001b[39m\u001b[38;5;124m'\u001b[39m)\n",
      "\u001b[1;31mNameError\u001b[0m: name 'lista_geral' is not defined"
     ]
    }
   ],
   "source": [
    "\"\"\"\n",
    "Gerando gráfico de barras, primeiro passa o eixo x (lojas-index)\n",
    "e depois o eixo y (contagem-values)\n",
    "\"\"\"\n",
    "\n",
    "grafico_lojas = lista_geral.groupby('loja_cidade').count().produto_produto.sort_values(ascending=False)\n",
    "\n",
    "plt.bar(grafico_lojas.index, grafico_lojas.values)\n",
    "plt.title('Quantidade de Vendas por Loja')\n",
    "plt.show()"
   ]
  },
  {
   "cell_type": "code",
<<<<<<< HEAD
   "execution_count": 3,
=======
   "execution_count": 17,
>>>>>>> c37934cd5549865880b91acf61d168c93ebf0a70
   "id": "0bae0717",
   "metadata": {},
   "outputs": [
    {
     "ename": "NameError",
     "evalue": "name 'lista_geral' is not defined",
     "output_type": "error",
     "traceback": [
      "\u001b[1;31m---------------------------------------------------------------------------\u001b[0m",
      "\u001b[1;31mNameError\u001b[0m                                 Traceback (most recent call last)",
      "Cell \u001b[1;32mIn [3], line 5\u001b[0m\n\u001b[0;32m      1\u001b[0m \u001b[38;5;124;03m\"\"\"\u001b[39;00m\n\u001b[0;32m      2\u001b[0m \u001b[38;5;124;03mA função xticks rotaciona as legendas do eixo x\u001b[39;00m\n\u001b[0;32m      3\u001b[0m \u001b[38;5;124;03m\"\"\"\u001b[39;00m\n\u001b[1;32m----> 5\u001b[0m grafico_lojas \u001b[38;5;241m=\u001b[39m \u001b[43mlista_geral\u001b[49m\u001b[38;5;241m.\u001b[39mgroupby(\u001b[38;5;124m'\u001b[39m\u001b[38;5;124mloja_cidade\u001b[39m\u001b[38;5;124m'\u001b[39m)\u001b[38;5;241m.\u001b[39mcount()\u001b[38;5;241m.\u001b[39mproduto_produto\u001b[38;5;241m.\u001b[39msort_values(ascending\u001b[38;5;241m=\u001b[39m\u001b[38;5;28;01mFalse\u001b[39;00m)\n\u001b[0;32m      7\u001b[0m plt\u001b[38;5;241m.\u001b[39mbar(grafico_lojas\u001b[38;5;241m.\u001b[39mindex, grafico_lojas\u001b[38;5;241m.\u001b[39mvalues)\n\u001b[0;32m      8\u001b[0m plt\u001b[38;5;241m.\u001b[39mtitle(\u001b[38;5;124m'\u001b[39m\u001b[38;5;124mQuantidade de Vendas por Loja\u001b[39m\u001b[38;5;124m'\u001b[39m)\n",
      "\u001b[1;31mNameError\u001b[0m: name 'lista_geral' is not defined"
     ]
    }
   ],
   "source": [
    "\"\"\"\n",
    "A função xticks rotaciona as legendas do eixo x\n",
    "\"\"\"\n",
    "\n",
    "grafico_lojas = lista_geral.groupby('loja_cidade').count().produto_produto.sort_values(ascending=False)\n",
    "\n",
    "plt.bar(grafico_lojas.index, grafico_lojas.values)\n",
    "plt.title('Quantidade de Vendas por Loja')\n",
    "plt.xticks(rotation=45)\n",
    "plt.show()"
   ]
  },
  {
   "cell_type": "code",
   "execution_count": null,
   "id": "2807e58f",
   "metadata": {},
   "outputs": [],
   "source": [
    "\"\"\"\n",
    "Para aumentar proporcionalmente (largura x altura)\n",
    "o tamanho do gráfico, se usa a função figure() junto com\n",
    "a propriedade figsize\n",
    "\n",
    "\"\"\"\n",
    "\n",
    "grafico_lojas = lista_geral.groupby('loja_cidade').count().produto_produto.sort_values(ascending=False)\n",
    "\n",
    "plt.figure(figsize=(13,5))\n",
    "plt.bar(grafico_lojas.index, grafico_lojas.values)\n",
    "plt.title('Quantidade de Vendas por Loja')\n",
    "plt.xticks(rotation=45)\n",
    "plt.show()"
   ]
  },
  {
   "cell_type": "markdown",
   "id": "0fc9486b",
   "metadata": {},
   "source": [
    "## Produtos que mais vendem"
   ]
  },
  {
   "cell_type": "code",
<<<<<<< HEAD
   "execution_count": null,
   "id": "a39e7a2c",
   "metadata": {},
   "outputs": [],
   "source": [
    "grafico_lojas = lista_geral.groupby('loja_cidade').count().produto_produto.sort_values(ascending=False)\n",
    "\n",
    "plt.figure(figsize=(13,5))\n",
    "plt.bar(grafico_lojas.index, grafico_lojas.values)\n",
    "plt.title('Produtos mais vendidos')\n",
=======
   "execution_count": 23,
   "id": "8e46e237",
   "metadata": {},
   "outputs": [
    {
     "data": {
      "image/png": "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\n",
      "text/plain": [
       "<Figure size 1300x500 with 1 Axes>"
      ]
     },
     "metadata": {},
     "output_type": "display_data"
    }
   ],
   "source": [
    "\"\"\"\n",
    "Mesma consulta anterior, alterando os dados de loja para produto\n",
    "\"\"\"\n",
    "\n",
    "grafico_produtos = lista_geral.groupby('produto_produto').count().produto_valor.sort_values(ascending=False)\n",
    "\n",
    "\n",
    "plt.figure(figsize=(13,5))\n",
    "plt.bar(grafico_produtos.index, grafico_produtos.values)\n",
    "plt.title('Quantidade de Produtos vendidos')\n",
>>>>>>> c37934cd5549865880b91acf61d168c93ebf0a70
    "plt.xticks(rotation=45)\n",
    "plt.show()"
   ]
  },
  {
   "cell_type": "markdown",
   "id": "b65cded6",
   "metadata": {},
   "source": [
    "## Quais lojas geram maior receita?"
   ]
  },
  {
   "cell_type": "code",
   "execution_count": 31,
   "id": "24017a28",
   "metadata": {},
   "outputs": [
    {
     "data": {
      "image/png": "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\n",
      "text/plain": [
       "<Figure size 1300x500 with 1 Axes>"
      ]
     },
     "metadata": {},
     "output_type": "display_data"
    }
   ],
   "source": [
    "\"\"\"\n",
    "Para realizar a soma, utiliza a função sum() e o campo\n",
    "utilizado para este fim será o produto_valor\n",
    "Se não colocar a propriedade numeric_only=True, gera um alerta\n",
    "que a soma pode estar sendo realizada com dados não nimericos,\n",
    "é apenas um alerta. Isto foi verificado na etapa anterior de preparação dos dados.\n",
    "\"\"\"\n",
    "\n",
    "grafico_receita = lista_geral.groupby('loja_cidade').sum(numeric_only=True).produto_valor.sort_values(ascending=False)\n",
    "\n",
    "\n",
    "plt.figure(figsize=(13,5))\n",
    "plt.bar(grafico_receita.index, grafico_receita.values)\n",
    "plt.title('Lojas com mais Receitas')\n",
    "plt.xticks(rotation=45)\n",
    "plt.show()"
   ]
  },
  {
   "cell_type": "markdown",
   "id": "3480817e",
   "metadata": {},
   "source": [
    "## Quais produtos geram maior receita?"
   ]
  },
  {
   "cell_type": "code",
   "execution_count": 32,
   "id": "881230d8",
   "metadata": {},
   "outputs": [
    {
     "data": {
      "image/png": "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\n",
      "text/plain": [
       "<Figure size 1300x500 with 1 Axes>"
      ]
     },
     "metadata": {},
     "output_type": "display_data"
    }
   ],
   "source": [
    "\"\"\"\n",
    "Agrupa pela coluna produto_produto,\n",
    "e soma os valores da coluna produto_valor\n",
    "\"\"\"\n",
    "\n",
    "grafico_produto_receita = lista_geral.groupby('produto_produto').sum(numeric_only=True).produto_valor.sort_values(ascending=False)\n",
    "\n",
    "\n",
    "plt.figure(figsize=(13,5))\n",
    "plt.bar(grafico_produto_receita.index, grafico_produto_receita.values)\n",
    "plt.title('Produtos com mais receita')\n",
    "plt.xticks(rotation=45)\n",
    "plt.show()"
   ]
  },
  {
   "cell_type": "code",
   "execution_count": null,
   "id": "40bfc567",
   "metadata": {},
   "outputs": [],
   "source": []
  }
 ],
 "metadata": {
  "kernelspec": {
   "display_name": "Python 3 (ipykernel)",
   "language": "python",
   "name": "python3"
  },
  "language_info": {
   "codemirror_mode": {
    "name": "ipython",
    "version": 3
   },
   "file_extension": ".py",
   "mimetype": "text/x-python",
   "name": "python",
   "nbconvert_exporter": "python",
   "pygments_lexer": "ipython3",
   "version": "3.10.7"
  }
 },
 "nbformat": 4,
 "nbformat_minor": 5
}
