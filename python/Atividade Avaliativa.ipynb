{
 "cells": [
  {
   "cell_type": "markdown",
   "id": "c91c42ff",
   "metadata": {},
   "source": [
    "#Questão 1"
   ]
  },
  {
   "cell_type": "code",
   "execution_count": 8,
   "id": "cc330b65",
   "metadata": {},
   "outputs": [],
   "source": [
    "import datetime"
   ]
  },
  {
   "cell_type": "code",
   "execution_count": 9,
   "id": "0ce356a9",
   "metadata": {},
   "outputs": [
    {
     "name": "stdout",
     "output_type": "stream",
     "text": [
      "2022-11-02\n"
     ]
    }
   ],
   "source": [
    "date = datetime.date.today()\n",
    "print(date)"
   ]
  },
  {
   "cell_type": "code",
   "execution_count": 23,
   "id": "4560bcfb",
   "metadata": {},
   "outputs": [
    {
     "name": "stdout",
     "output_type": "stream",
     "text": [
      "2022-11-05\n"
     ]
    }
   ],
   "source": [
    "dtesp = datetime.date(2022,11,5)\n",
    "print(dtesp)"
   ]
  },
  {
   "cell_type": "code",
   "execution_count": 24,
   "id": "5ca4aafd",
   "metadata": {},
   "outputs": [
    {
     "name": "stdout",
     "output_type": "stream",
     "text": [
      "2\n"
     ]
    }
   ],
   "source": [
    "day = data.day\n",
    "print(day)"
   ]
  },
  {
   "cell_type": "code",
   "execution_count": 25,
   "id": "fc6049aa",
   "metadata": {},
   "outputs": [
    {
     "name": "stdout",
     "output_type": "stream",
     "text": [
      "11\n"
     ]
    }
   ],
   "source": [
    "month = data.month\n",
    "print(month)"
   ]
  },
  {
   "cell_type": "code",
   "execution_count": 26,
   "id": "3e92b215",
   "metadata": {},
   "outputs": [
    {
     "name": "stdout",
     "output_type": "stream",
     "text": [
      "2022\n"
     ]
    }
   ],
   "source": [
    "year = data.year\n",
    "print(year)"
   ]
  },
  {
   "cell_type": "code",
   "execution_count": 31,
   "id": "e3781231",
   "metadata": {},
   "outputs": [
    {
     "name": "stdout",
     "output_type": "stream",
     "text": [
      "11\n"
     ]
    }
   ],
   "source": [
    "hour = datetime.datetime.now()\n",
    "print(hour.hour)"
   ]
  },
  {
   "cell_type": "code",
   "execution_count": 32,
   "id": "d36caffe",
   "metadata": {},
   "outputs": [
    {
     "name": "stdout",
     "output_type": "stream",
     "text": [
      "51\n"
     ]
    }
   ],
   "source": [
    "hour = datetime.datetime.now()\n",
    "print(hour.minute)\n"
   ]
  },
  {
   "cell_type": "code",
   "execution_count": 33,
   "id": "1daa80e2",
   "metadata": {},
   "outputs": [
    {
     "name": "stdout",
     "output_type": "stream",
     "text": [
      "13\n"
     ]
    }
   ],
   "source": [
    "hour = datetime.datetime.now()\n",
    "print(hour.second)"
   ]
  },
  {
   "cell_type": "code",
   "execution_count": 53,
   "id": "84fe884e",
   "metadata": {},
   "outputs": [
    {
     "name": "stdout",
     "output_type": "stream",
     "text": [
      "2019-11-02\n",
      "2022-11-02\n"
     ]
    }
   ],
   "source": [
    "date = datetime.date.today()\n",
    "date_new = date.replace(year=2019)\n",
    "print(date_new)\n",
    "print(date)\n"
   ]
  },
  {
   "cell_type": "markdown",
   "id": "a9b57c98",
   "metadata": {},
   "source": [
    "#Questão 2"
   ]
  },
  {
   "cell_type": "code",
   "execution_count": null,
   "id": "e10d4211",
   "metadata": {},
   "outputs": [],
   "source": [
    "#O map() serve para aplicar uma função a cada item em um iterável \n",
    "#(como uma lista ou um dicionário ) e retornar um novo iterador para recuperar os resultados."
   ]
  },
  {
   "cell_type": "code",
   "execution_count": 60,
   "id": "c563ff71",
   "metadata": {},
   "outputs": [
    {
     "name": "stdout",
     "output_type": "stream",
     "text": [
      "[90, 60, 90, 150]\n",
      "<map object at 0x000001BBE05CD8A0>\n",
      "[90, 60, 90, 150]\n"
     ]
    }
   ],
   "source": [
    "#Ex:\n",
    "precos = [30, 20, 30, 50]\n",
    "def adicionar_imposto(preco):\n",
    " return preco * 3\n",
    "precos_com_imposto = []\n",
    "for preco in precos:\n",
    " precos_com_imposto.append(adicionar_imposto(preco))\n",
    "print(precos_com_imposto)\n",
    "precos_com_imposto2 = map(adicionar_imposto, precos)\n",
    "print(precos_com_imposto2)\n",
    "precos_com_imposto2 = list(map(adicionar_imposto, precos))\n",
    "print(precos_com_imposto2)"
   ]
  },
  {
   "cell_type": "markdown",
   "id": "864d0356",
   "metadata": {},
   "source": [
    "#Questão 3"
   ]
  },
  {
   "cell_type": "code",
   "execution_count": null,
   "id": "444550ab",
   "metadata": {},
   "outputs": [],
   "source": [
    "#A função reduce serve pra \"reduzir\" um iterável (como uma lista) a um único valor. \n",
    "#É um paradigma um pouco mais comum em linguagens funcionais, \n",
    "#mas que também é bastante útil em linguagens imperativas/orientadas a objetos como o Python."
   ]
  },
  {
   "cell_type": "code",
   "execution_count": 68,
   "id": "ae5ea469",
   "metadata": {},
   "outputs": [],
   "source": [
    "from functools import reduce"
   ]
  },
  {
   "cell_type": "code",
   "execution_count": 71,
   "id": "7e37e066",
   "metadata": {},
   "outputs": [
    {
     "name": "stdout",
     "output_type": "stream",
     "text": [
      "120\n"
     ]
    }
   ],
   "source": [
    "#Ex:\n",
    "lista = [4, 3, 2, 5]\n",
    "\n",
    "def mult(x, y):\n",
    "    return x * y\n",
    "\n",
    "produto_total = reduce(mult, lista)\n",
    "print(produto_total)"
   ]
  },
  {
   "cell_type": "markdown",
   "id": "b27350ad",
   "metadata": {},
   "source": [
    "#Questão 4"
   ]
  },
  {
   "cell_type": "code",
   "execution_count": null,
   "id": "c5764d4e",
   "metadata": {},
   "outputs": [],
   "source": [
    "#A função integrada filter() do Python pode ser usada para criar um novo iterador \n",
    "#a partir de um iterável existente (como uma lista ou um dicionário) \n",
    "#que irá filtrar de forma eficiente os elementos usando uma função que fornecemos."
   ]
  },
  {
   "cell_type": "code",
   "execution_count": 72,
   "id": "531a61bc",
   "metadata": {},
   "outputs": [],
   "source": [
    "aquarium_creatures = [\n",
    "  {\"name\": \"sammy\", \"species\": \"shark\", \"tank number\": \"11\", \"type\": \"fish\"},\n",
    "  {\"name\": \"ashley\", \"species\": \"crab\", \"tank number\": \"25\", \"type\": \"shellfish\"},\n",
    "  {\"name\": \"jo\", \"species\": \"guppy\", \"tank number\": \"18\", \"type\": \"fish\"},\n",
    "  {\"name\": \"jackie\", \"species\": \"lobster\", \"tank number\": \"21\", \"type\": \"shellfish\"},\n",
    "  {\"name\": \"charlie\", \"species\": \"clownfish\", \"tank number\": \"12\", \"type\": \"fish\"},\n",
    "  {\"name\": \"olly\", \"species\": \"green turtle\", \"tank number\": \"34\", \"type\": \"turtle\"}\n",
    "]"
   ]
  },
  {
   "cell_type": "code",
   "execution_count": 78,
   "id": "a61d3b2f",
   "metadata": {},
   "outputs": [],
   "source": [
    "def filter_set(aquarium_creatures, search_string):\n",
    "\tdef iterator_func(x):\n",
    "\t\tfor v in x.values():\n",
    "\t\t\tif search_string in v:\n",
    "\t\t\t\treturn True\n",
    "\t\treturn False\n",
    "\treturn filter(iterator_func, aquarium_creatures)"
   ]
  },
  {
   "cell_type": "code",
   "execution_count": 83,
   "id": "42e6ab16",
   "metadata": {},
   "outputs": [],
   "source": [
    "filtered_records = filter_set(aquarium_creatures, \"4\")"
   ]
  },
  {
   "cell_type": "code",
   "execution_count": 84,
   "id": "8f48afd1",
   "metadata": {},
   "outputs": [
    {
     "name": "stdout",
     "output_type": "stream",
     "text": [
      "[{'name': 'olly', 'species': 'green turtle', 'tank number': '34', 'type': 'turtle'}]\n"
     ]
    }
   ],
   "source": [
    "print(list(filtered_records))"
   ]
  },
  {
   "cell_type": "markdown",
   "id": "9198619c",
   "metadata": {},
   "source": [
    "#Questão 5"
   ]
  },
  {
   "cell_type": "code",
   "execution_count": null,
   "id": "d101b6c0",
   "metadata": {},
   "outputs": [],
   "source": [
    "#Esta função retorna uma lista de tuplas, \n",
    "#onde a i-ésima tupla contém o i-ésimo elemento de cada um dos argumentos."
   ]
  },
  {
   "cell_type": "code",
   "execution_count": 128,
   "id": "85f5059c",
   "metadata": {},
   "outputs": [],
   "source": [
    "l1 = [1, 2, 3]\n",
    "l2 = [4, 5, 6]"
   ]
  },
  {
   "cell_type": "code",
   "execution_count": 129,
   "id": "d3817565",
   "metadata": {},
   "outputs": [
    {
     "name": "stdout",
     "output_type": "stream",
     "text": [
      "(1, 4)\n",
      "(2, 5)\n",
      "(3, 6)\n"
     ]
    }
   ],
   "source": [
    "for i in zip (l1 , l2):\n",
    "    print(i)"
   ]
  },
  {
   "cell_type": "markdown",
   "id": "b3fcf646",
   "metadata": {},
   "source": [
    "#Questão 6"
   ]
  },
  {
   "cell_type": "code",
   "execution_count": null,
   "id": "fe720935",
   "metadata": {},
   "outputs": [],
   "source": [
    "#Essa função pode receber como entrada uma lista e \n",
    "#irá retornar um objeto do tipo enumerate, que poderá ser percorrido pelo for"
   ]
  },
  {
   "cell_type": "code",
   "execution_count": 149,
   "id": "33635068",
   "metadata": {},
   "outputs": [
    {
     "name": "stdout",
     "output_type": "stream",
     "text": [
      "0 Buenos dias\n",
      "1 desayuno\n",
      "2 welcome\n",
      "3 gracias\n"
     ]
    }
   ],
   "source": [
    "l = ['Buenos dias', 'desayuno', 'welcome', 'gracias']\n",
    "for i, desayuno in enumerate(l):\n",
    "  print(i, desayuno)"
   ]
  },
  {
   "cell_type": "markdown",
   "id": "35f561ce",
   "metadata": {},
   "source": [
    "#Questão 7"
   ]
  },
  {
   "cell_type": "code",
   "execution_count": null,
   "id": "f6246690",
   "metadata": {},
   "outputs": [],
   "source": [
    "#List Comprehensions são maneiras de criar e manipular listas dentro do python de forma mais curta em apenas 1 linha. \n",
    "#Geralmente é utilizado para realizar operações simples dentro de uma lista (array)."
   ]
  },
  {
   "cell_type": "code",
   "execution_count": 154,
   "id": "b374dc4e",
   "metadata": {},
   "outputs": [
    {
     "name": "stdout",
     "output_type": "stream",
     "text": [
      "[0, 2, 4, 6, 8, 10, 12, 14, 16, 18]\n"
     ]
    }
   ],
   "source": [
    "tabuada = [i*2 for i in range(0,10)]\n",
    "print(tabuada)"
   ]
  },
  {
   "cell_type": "code",
   "execution_count": null,
   "id": "eb294616",
   "metadata": {},
   "outputs": [],
   "source": []
  }
 ],
 "metadata": {
  "kernelspec": {
   "display_name": "Python 3 (ipykernel)",
   "language": "python",
   "name": "python3"
  },
  "language_info": {
   "codemirror_mode": {
    "name": "ipython",
    "version": 3
   },
   "file_extension": ".py",
   "mimetype": "text/x-python",
   "name": "python",
   "nbconvert_exporter": "python",
   "pygments_lexer": "ipython3",
   "version": "3.10.7"
  }
 },
 "nbformat": 4,
 "nbformat_minor": 5
}
