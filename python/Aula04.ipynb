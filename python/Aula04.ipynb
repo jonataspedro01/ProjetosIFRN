{
 "cells": [
  {
   "cell_type": "code",
   "execution_count": 1,
   "id": "fee0c4c6",
   "metadata": {},
   "outputs": [],
   "source": [
    "#Classe Lampada com construtor parametrizado\n",
    "class Lampada:\n",
    "\n",
    "    def __init__(self, codigo, tipo, estado):\n",
    "        self.codigo = codigo\n",
    "        self.tipo = tipo\n",
    "        self.estado = estado"
   ]
  },
  {
   "cell_type": "code",
   "execution_count": 2,
   "id": "7fe3c265",
   "metadata": {},
   "outputs": [],
   "source": [
    "#Instanciar um objeto a partir da classe lampada\n",
    "\n",
    "lampada =  Lampada(1, 'Fluorescente', 'Apagada')"
   ]
  },
  {
   "cell_type": "code",
   "execution_count": 3,
   "id": "88e3c3eb",
   "metadata": {},
   "outputs": [],
   "source": [
    "#Classe Lampada com construtor vazio\n",
    "class Lampada:\n",
    "\n",
    "    def __init__(self):\n",
    "       self.codigo = 123\n",
    "       self.tipo = 'Fluorescente'\n",
    "       self.estado = 'Apagada'"
   ]
  },
  {
   "cell_type": "code",
   "execution_count": 4,
   "id": "cb1b3b3d",
   "metadata": {},
   "outputs": [],
   "source": [
    "#Instanciando um objeto a partir de um construtor vazio\n",
    "lampada = Lampada()"
   ]
  },
  {
   "cell_type": "code",
   "execution_count": 8,
   "id": "379bcb3b",
   "metadata": {},
   "outputs": [],
   "source": [
    "#Definindo funções(ações)\n",
    "class Lampada:\n",
    "\n",
    "    def __init__(self, codigo, tipo, estado):\n",
    "        self.codigo = codigo\n",
    "        self.tipo = tipo\n",
    "        self.estado = estado\n",
    "    \n",
    "    def acender(self):\n",
    "        self.estado = 'Acesa'\n",
    "    \n",
    "    def apagar(self):\n",
    "        self.estado = 'Apagada'"
   ]
  },
  {
   "cell_type": "code",
   "execution_count": 16,
   "id": "137b320b",
   "metadata": {},
   "outputs": [
    {
     "name": "stdout",
     "output_type": "stream",
     "text": [
      "Apagada\n",
      "Acesa\n",
      "Apagada\n",
      "Led\n",
      "Fluorescente\n"
     ]
    }
   ],
   "source": [
    "lampada1 = Lampada(1, 'Led', 'Apagada')\n",
    "print(lampada1.estado)\n",
    "lampada1.acender()\n",
    "print(lampada1.estado)\n",
    "lampada1.apagar()\n",
    "print(lampada1.estado)\n",
    "print(lampada1.tipo)\n",
    "lampada1.tipo = 'Fluorescente'\n",
    "print(lampada1.tipo)"
   ]
  },
  {
   "cell_type": "code",
   "execution_count": 20,
   "id": "5a69cb1a",
   "metadata": {},
   "outputs": [],
   "source": [
    "#Definindo funções(ações com construtor vazio)\n",
    "class Lampada:\n",
    "\n",
    "    def __init__(self):\n",
    "        self.codigo = 0\n",
    "        self.tipo = ''\n",
    "        self.estado = ''\n",
    "    \n",
    "    def acender(self):\n",
    "        self.estado = 'Acesa'\n",
    "    \n",
    "    def apagar(self):\n",
    "        self.estado = 'Apagada'"
   ]
  },
  {
   "cell_type": "code",
   "execution_count": 22,
   "id": "2432d0e4",
   "metadata": {},
   "outputs": [
    {
     "name": "stdout",
     "output_type": "stream",
     "text": [
      "Apagada\n",
      "Acesa\n"
     ]
    }
   ],
   "source": [
    "lampada2 = Lampada()\n",
    "lampada2.codigo = 2\n",
    "lampada2.tipo = 'Led'\n",
    "lampada2.estado = 'Apagada'\n",
    "print(lampada2.estado)\n",
    "lampada2.acender()\n",
    "print(lampada2.estado)"
   ]
  },
  {
   "cell_type": "code",
   "execution_count": 23,
   "id": "7bdc6f50",
   "metadata": {},
   "outputs": [
    {
     "name": "stdout",
     "output_type": "stream",
     "text": [
      "<__main__.Lampada object at 0x0000025552D5D990>\n"
     ]
    }
   ],
   "source": [
    "'''\n",
    "Se tentar imprimir diretamente o objeto,\n",
    "o programa exibirá o endereço de memória.\n",
    "\n",
    "Obs.: Não é erro, executa normalmente.\n",
    "'''\n",
    "\n",
    "print(lampada2)"
   ]
  },
  {
   "cell_type": "code",
   "execution_count": 28,
   "id": "8f552043",
   "metadata": {},
   "outputs": [],
   "source": [
    "'''\n",
    "Para mudar o que aparece quando imprime\n",
    "diretamente o objeto, se usa a função\n",
    "especial __str__\n",
    "'''\n",
    "\n",
    "class Lampada:\n",
    "\n",
    "    def __init__(self):\n",
    "        self.codigo = 0\n",
    "        self.tipo = ''\n",
    "        self.estado = ''\n",
    "    \n",
    "    def acender(self):\n",
    "        self.estado = 'Acesa'\n",
    "    \n",
    "    def apagar(self):\n",
    "        self.estado = 'Apagada'\n",
    "    def __str__(self):\n",
    "        return 'Lampada tipo: '+self.tipo"
   ]
  },
  {
   "cell_type": "code",
   "execution_count": 29,
   "id": "2d3605ce",
   "metadata": {},
   "outputs": [
    {
     "name": "stdout",
     "output_type": "stream",
     "text": [
      "Lampada tipo: Led\n"
     ]
    }
   ],
   "source": [
    "lampada2 = Lampada()\n",
    "lampada2.codigo = 2\n",
    "lampada2.tipo = 'Led'\n",
    "lampada2.estado = 'Apagada'\n",
    "print(lampada2)"
   ]
  },
  {
   "cell_type": "code",
   "execution_count": null,
   "id": "dbd447ca",
   "metadata": {},
   "outputs": [],
   "source": []
  }
 ],
 "metadata": {
  "kernelspec": {
   "display_name": "Python 3 (ipykernel)",
   "language": "python",
   "name": "python3"
  },
  "language_info": {
   "codemirror_mode": {
    "name": "ipython",
    "version": 3
   },
   "file_extension": ".py",
   "mimetype": "text/x-python",
   "name": "python",
   "nbconvert_exporter": "python",
   "pygments_lexer": "ipython3",
   "version": "3.10.4"
  }
 },
 "nbformat": 4,
 "nbformat_minor": 5
}
