{
 "cells": [
  {
   "cell_type": "code",
   "execution_count": 1,
   "id": "dacedbe3",
   "metadata": {},
   "outputs": [],
   "source": [
    "#Classe Lampada com construtor parametrizado\n",
    "class Lampada:\n",
    "\n",
    "    def __init__(self, codigo, tipo, estado):\n",
    "        self.codigo = codigo\n",
    "        self.tipo = tipo\n",
    "        self.estado = estado"
   ]
  },
  {
   "cell_type": "code",
   "execution_count": 2,
   "id": "9c8648f2",
   "metadata": {},
   "outputs": [],
   "source": [
    "#Instanciar um objeto a partir da classe lampada\n",
    "\n",
    "lampada =  Lampada(1, 'Fluorescente', 'Apagada')"
   ]
  },
  {
   "cell_type": "code",
   "execution_count": 3,
   "id": "5cea6b49",
   "metadata": {},
   "outputs": [],
   "source": [
    "#Classe Lampada com construtor vazio\n",
    "class Lampada:\n",
    "\n",
    "    def __init__(self):\n",
    "       self.codigo = 123\n",
    "       self.tipo = 'Fluorescente'\n",
    "       self.estado = 'Apagada'"
   ]
  },
  {
   "cell_type": "code",
   "execution_count": 4,
   "id": "6908f132",
   "metadata": {},
   "outputs": [],
   "source": [
    "#Instanciando um objeto a partir de um construtor vazio\n",
    "lampada = Lampada()"
   ]
  },
  {
   "cell_type": "code",
   "execution_count": 8,
   "id": "b0b3c98c",
   "metadata": {},
   "outputs": [],
   "source": [
    "#Definindo funções(ações)\n",
    "class Lampada:\n",
    "\n",
    "    def __init__(self, codigo, tipo, estado):\n",
    "        self.codigo = codigo\n",
    "        self.tipo = tipo\n",
    "        self.estado = estado\n",
    "    \n",
    "    def acender(self):\n",
    "        self.estado = 'Acesa'\n",
    "    \n",
    "    def apagar(self):\n",
    "        self.estado = 'Apagada'"
   ]
  },
  {
   "cell_type": "code",
   "execution_count": 14,
   "id": "f2a6eca6",
   "metadata": {},
   "outputs": [
    {
     "name": "stdout",
     "output_type": "stream",
     "text": [
      "Apagada\n",
      "Acesa\n",
      "Apagada\n",
      "Led\n",
      "Fluorescente\n"
     ]
    }
   ],
   "source": [
    "lampada1 = Lampada(1, 'Led', 'Apagada')\n",
    "print(lampada1.estado)\n",
    "lampada1.acender()\n",
    "print(lampada1.estado)\n",
    "lampada1.apagar()\n",
    "print(lampada1.estado)\n",
    "print(lampada1.tipo)\n",
    "lampada1.tipo = 'Fluorescente'\n",
    "print(lampada1.tipo)"
   ]
  },
  {
   "cell_type": "code",
   "execution_count": null,
   "id": "32a6fc08",
   "metadata": {},
   "outputs": [],
   "source": []
  }
 ],
 "metadata": {
  "kernelspec": {
   "display_name": "Python 3 (ipykernel)",
   "language": "python",
   "name": "python3"
  },
  "language_info": {
   "codemirror_mode": {
    "name": "ipython",
    "version": 3
   },
   "file_extension": ".py",
   "mimetype": "text/x-python",
   "name": "python",
   "nbconvert_exporter": "python",
   "pygments_lexer": "ipython3",
   "version": "3.10.4"
  }
 },
 "nbformat": 4,
 "nbformat_minor": 5
}
