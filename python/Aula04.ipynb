{
 "cells": [
  {
   "cell_type": "code",
   "execution_count": 1,
   "id": "723295c4",
   "metadata": {},
   "outputs": [],
   "source": [
    "#Classe Lampada com construtor parametrizado\n",
    "class Lampada:\n",
    "\n",
    "    def __init__(self, codigo, tipo, estado):\n",
    "        self.codigo = codigo\n",
    "        self.tipo = tipo\n",
    "        self.estado = estado"
   ]
  },
  {
   "cell_type": "code",
   "execution_count": 2,
   "id": "c1d5241e",
   "metadata": {},
   "outputs": [],
   "source": [
    "#Instanciar um objeto a partir da classe lampada\n",
    "\n",
    "lampada =  Lampada(1, 'Fluorescente', 'Apagada')"
   ]
  },
  {
   "cell_type": "code",
   "execution_count": 3,
   "id": "e7a0bb7f",
   "metadata": {},
   "outputs": [],
   "source": [
    "#Classe Lampada com construtor vazio\n",
    "class Lampada:\n",
    "\n",
    "    def __init__(self):\n",
    "       self.codigo = 123\n",
    "       self.tipo = 'Fluorescente'\n",
    "       self.estado = 'Apagada'"
   ]
  },
  {
   "cell_type": "code",
   "execution_count": 4,
   "id": "af0038f1",
   "metadata": {},
   "outputs": [],
   "source": [
    "#Instanciando um objeto a partir de um construtor vazio\n",
    "lampada = Lampada()"
   ]
  },
  {
   "cell_type": "code",
   "execution_count": null,
   "id": "a2695782",
   "metadata": {},
   "outputs": [],
   "source": []
  }
 ],
 "metadata": {
  "kernelspec": {
   "display_name": "Python 3 (ipykernel)",
   "language": "python",
   "name": "python3"
  },
  "language_info": {
   "codemirror_mode": {
    "name": "ipython",
    "version": 3
   },
   "file_extension": ".py",
   "mimetype": "text/x-python",
   "name": "python",
   "nbconvert_exporter": "python",
   "pygments_lexer": "ipython3",
   "version": "3.10.4"
  }
 },
 "nbformat": 4,
 "nbformat_minor": 5
}
