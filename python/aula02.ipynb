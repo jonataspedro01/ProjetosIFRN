{
 "cells": [
  {
   "cell_type": "markdown",
   "id": "d23ce949",
   "metadata": {},
   "source": [
    "# Trabalhando com csv"
   ]
  },
  {
   "cell_type": "code",
   "execution_count": 13,
   "id": "cd62a69b",
   "metadata": {},
   "outputs": [],
   "source": [
    "# importando a biblioteca csv do Python\n",
    "import csv"
   ]
  },
  {
   "cell_type": "code",
   "execution_count": 28,
   "id": "970c3eb0",
   "metadata": {},
   "outputs": [],
   "source": [
    "# Criando um arquivo csv\n",
    "arquivo = open('planilha.csv', 'w', newline='')\n",
    "arquivo_csv = csv.writer(arquivo)\n",
    "arquivo_csv.writerow(('Primeira' , 'Segunda', 'Terceira'))\n",
    "arquivo_csv.writerow((50,35,22))\n",
    "arquivo_csv.writerow((22,12,43))\n",
    "arquivo.close()"
   ]
  },
  {
   "cell_type": "code",
   "execution_count": 29,
   "id": "1acaa981",
   "metadata": {},
   "outputs": [],
   "source": [
    "# Criando um arquivo csv (OUTRA FORMA)\n",
    "with open('planilha.csv', 'w', newline='') as arquivo: \n",
    "    arquivo_csv = csv.writer(arquivo)\n",
    "    arquivo_csv.writerow(('Primeira' , 'Segunda', 'Terceira'))\n",
    "    arquivo_csv.writerow((50,35,22))\n",
    "    arquivo_csv.writerow((22,12,43))"
   ]
  },
  {
   "cell_type": "code",
   "execution_count": 36,
   "id": "a2a12740",
   "metadata": {},
   "outputs": [
    {
     "name": "stdout",
     "output_type": "stream",
     "text": [
      "['Primeira', 'Segunda', 'Terceira']\n",
      "['50', '35', '22']\n",
      "['22', '12', '43']\n"
     ]
    }
   ],
   "source": [
    "# leitura de arquivo csv\n",
    "with open('planilha.csv', 'r') as arquivo:\n",
    "    leitura = csv.reader(arquivo)\n",
    "    \n",
    "    # é possível utilizar o objeto leitura no for\n",
    "    # leitura é um objeto iterável\n",
    "    for linha in leitura:\n",
    "         print(linha)\n",
    "            \n",
    "    #converte para lista de dados\n",
    "    lista = list(leitura)"
   ]
  },
  {
   "cell_type": "code",
   "execution_count": null,
   "id": "346c8a6c",
   "metadata": {},
   "outputs": [],
   "source": []
  }
 ],
 "metadata": {
  "kernelspec": {
   "display_name": "Python 3 (ipykernel)",
   "language": "python",
   "name": "python3"
  },
  "language_info": {
   "codemirror_mode": {
    "name": "ipython",
    "version": 3
   },
   "file_extension": ".py",
   "mimetype": "text/x-python",
   "name": "python",
   "nbconvert_exporter": "python",
   "pygments_lexer": "ipython3",
   "version": "3.10.4"
  }
 },
 "nbformat": 4,
 "nbformat_minor": 5
}
